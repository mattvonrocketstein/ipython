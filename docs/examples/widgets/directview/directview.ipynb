{
 "metadata": {
  "name": "directview"
 },
 "nbformat": 3,
 "worksheets": [
  {
   "cells": [
    {
     "cell_type": "code",
     "input": [
      ""
     ],
     "language": "python",
     "outputs": []
    }
   ]
  }
 ]
}