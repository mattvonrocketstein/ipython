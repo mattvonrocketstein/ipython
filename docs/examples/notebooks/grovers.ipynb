<?xml version="1.0" encoding="utf-8"?>
<notebook>
  <name>grovers</name>
  <nbformat>2</nbformat>
  <worksheets>
    <worksheet>
      <cells>
        <markdowncell>
          <source>&lt;h1&gt;Grover's Algorithm&lt;/h1&gt;</source>
        </markdowncell>
        <codecell>
          <input>%load_ext sympyprinting</input>
          <language>python</language>
          <prompt_number>1</prompt_number>
          <collapsed>1</collapsed>
          <outputs />
        </codecell>
        <codecell>
          <input>from sympy import sqrt, symbols, Rational
from sympy import expand, Eq, Symbol, simplify, exp, sin
from sympy.physics.quantum import *
from sympy.physics.quantum.qubit import *
from sympy.physics.quantum.gate import *
from sympy.physics.quantum.grover import *
from sympy.physics.quantum.qft import QFT, IQFT, Fourier
from sympy.physics.quantum.circuitplot import circuit_plot</input>
          <language>python</language>
          <prompt_number>2</prompt_number>
          <collapsed>1</collapsed>
          <outputs />
        </codecell>
        <codecell>
          <input>nqubits = 3
</input>
          <language>python</language>
          <prompt_number>3</prompt_number>
          <collapsed>1</collapsed>
          <outputs />
        </codecell>
        <markdowncell>
          <source>Grover's algorithm is a quantum algorithm which searches an unordered database (inverts a function).&lt;br/&gt;
Provides polynomial speedup over classical brute-force search ($O(\sqrt{N}) vs. O(N))$ </source>
        </markdowncell>
        <markdowncell>
          <source>Define a black box function that returns True if it is passed the state we are searching for.</source>
        </markdowncell>
        <codecell>
          <input>def black_box(qubits):
    return True if qubits == IntQubit(1, qubits.nqubits) else False
</input>
          <language>python</language>
          <prompt_number>4</prompt_number>
          <collapsed>1</collapsed>
          <outputs />
        </codecell>
        <markdowncell>
          <source>Build a uniform superposition state to start the search.</source>
        </markdowncell>
        <codecell>
          <input>psi = superposition_basis(nqubits); psi
</input>
          <language>python</language>
          <prompt_number>5</prompt_number>
          <collapsed>0</collapsed>
          <outputs>
            <output>
              <output_type>pyout</output_type>
              <text>⎽⎽⎽         ⎽⎽⎽         ⎽⎽⎽         ⎽⎽⎽         ⎽⎽⎽         ⎽⎽⎽         ⎽⎽⎽ 
╲╱ 2 ⋅❘0⟩   ╲╱ 2 ⋅❘1⟩   ╲╱ 2 ⋅❘2⟩   ╲╱ 2 ⋅❘3⟩   ╲╱ 2 ⋅❘4⟩   ╲╱ 2 ⋅❘5⟩   ╲╱ 2 ⋅
───────── + ───────── + ───────── + ───────── + ───────── + ───────── + ──────
    4           4           4           4           4           4           4 

        ⎽⎽⎽    
❘6⟩   ╲╱ 2 ⋅❘7⟩
─── + ─────────
          4</text>
              <png>aVZCT1J3MEtHZ29BQUFBTlNVaEVVZ0FBQXRvQUFBQWtDQVlBQUFDMzZaMXpBQUFBQkhOQ1NWUUlD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</png>
              <latex>$$\frac{1}{4} \sqrt{2} {\left|0\right\rangle } + \frac{1}{4} \sqrt{2} {\left|1\right\rangle } + \frac{1}{4} \sqrt{2} {\left|2\right\rangle } + \frac{1}{4} \sqrt{2} {\left|3\right\rangle } + \frac{1}{4} \sqrt{2} {\left|4\right\rangle } + \frac{1}{4} \sqrt{2} {\left|5\right\rangle } + \frac{1}{4} \sqrt{2} {\left|6\right\rangle } + \frac{1}{4} \sqrt{2} {\left|7\right\rangle }$$</latex>
              <prompt_number>5</prompt_number>
            </output>
          </outputs>
        </codecell>
        <codecell>
          <input>v = OracleGate(nqubits, black_box)
</input>
          <language>python</language>
          <prompt_number>6</prompt_number>
          <collapsed>1</collapsed>
          <outputs />
        </codecell>
        <markdowncell>
          <source>Perform two iterations of Grover's algorithm.  Each iteration, the amplitude of the target state increases.</source>
        </markdowncell>
        <codecell>
          <input>iter1 = qapply(grover_iteration(psi, v)); iter1
</input>
          <language>python</language>
          <prompt_number>7</prompt_number>
          <collapsed>0</collapsed>
          <outputs>
            <output>
              <output_type>pyout</output_type>
              <text>⎽⎽⎽           ⎽⎽⎽         ⎽⎽⎽         ⎽⎽⎽         ⎽⎽⎽         ⎽⎽⎽         ⎽⎽
╲╱ 2 ⋅❘0⟩   5⋅╲╱ 2 ⋅❘1⟩   ╲╱ 2 ⋅❘2⟩   ╲╱ 2 ⋅❘3⟩   ╲╱ 2 ⋅❘4⟩   ╲╱ 2 ⋅❘5⟩   ╲╱ 2
───────── + ─────────── + ───────── + ───────── + ───────── + ───────── + ────
    8            8            8           8           8           8           

⎽         ⎽⎽⎽    
 ⋅❘6⟩   ╲╱ 2 ⋅❘7⟩
───── + ─────────
8           8</text>
              <png>aVZCT1J3MEtHZ29BQUFBTlNVaEVVZ0FBQXRvQUFBQWtDQVlBQUFDMzZaMXpBQUFBQkhOQ1NWUUlD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=
</png>
              <latex>$$\frac{1}{8} \sqrt{2} {\left|0\right\rangle } + \frac{5}{8} \sqrt{2} {\left|1\right\rangle } + \frac{1}{8} \sqrt{2} {\left|2\right\rangle } + \frac{1}{8} \sqrt{2} {\left|3\right\rangle } + \frac{1}{8} \sqrt{2} {\left|4\right\rangle } + \frac{1}{8} \sqrt{2} {\left|5\right\rangle } + \frac{1}{8} \sqrt{2} {\left|6\right\rangle } + \frac{1}{8} \sqrt{2} {\left|7\right\rangle }$$</latex>
              <prompt_number>7</prompt_number>
            </output>
          </outputs>
        </codecell>
        <codecell>
          <input>iter2 = qapply(grover_iteration(iter1, v)); iter2
</input>
          <language>python</language>
          <prompt_number>8</prompt_number>
          <collapsed>0</collapsed>
          <outputs>
            <output>
              <output_type>pyout</output_type>
              <text>⎽⎽⎽            ⎽⎽⎽         ⎽⎽⎽         ⎽⎽⎽         ⎽⎽⎽         ⎽⎽⎽        
  ╲╱ 2 ⋅❘0⟩   11⋅╲╱ 2 ⋅❘1⟩   ╲╱ 2 ⋅❘2⟩   ╲╱ 2 ⋅❘3⟩   ╲╱ 2 ⋅❘4⟩   ╲╱ 2 ⋅❘5⟩   ╲
- ───────── + ──────────── - ───────── - ───────── - ───────── - ───────── - ─
      16           16            16          16          16          16       

 ⎽⎽⎽         ⎽⎽⎽    
╱ 2 ⋅❘6⟩   ╲╱ 2 ⋅❘7⟩
──────── - ─────────
   16          16</text>
              <png>aVZCT1J3MEtHZ29BQUFBTlNVaEVVZ0FBQXdVQUFBQWtDQVlBQUFEWWZaWjNBQUFBQkhOQ1NWUUlD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</png>
              <latex>$$- \frac{1}{16} \sqrt{2} {\left|0\right\rangle } + \frac{11}{16} \sqrt{2} {\left|1\right\rangle } - \frac{1}{16} \sqrt{2} {\left|2\right\rangle } - \frac{1}{16} \sqrt{2} {\left|3\right\rangle } - \frac{1}{16} \sqrt{2} {\left|4\right\rangle } - \frac{1}{16} \sqrt{2} {\left|5\right\rangle } - \frac{1}{16} \sqrt{2} {\left|6\right\rangle } - \frac{1}{16} \sqrt{2} {\left|7\right\rangle }$$</latex>
              <prompt_number>8</prompt_number>
            </output>
          </outputs>
        </codecell>
        <markdowncell>
          <source>A single shot measurement is performed to retrieve the target state.</source>
        </markdowncell>
        <codecell>
          <input>measure_all_oneshot(iter2)
</input>
          <language>python</language>
          <prompt_number>9</prompt_number>
          <collapsed>0</collapsed>
          <outputs>
            <output>
              <output_type>pyout</output_type>
              <text>❘001⟩</text>
              <png>aVZCT1J3MEtHZ29BQUFBTlNVaEVVZ0FBQUNrQUFBQVRDQVlBQUFBTmdTUTlBQUFBQkhOQ1NWUUlD
QWdJZkFoa2lBQUFBYWhKUkVGVQpTSW50MXJ0ckZVRWN4ZkVQUWVNcjZEWGlDM3lrc0ZIUlJpUW9p
SFZDS2l1eHloOWdZeU1XVmhhQ29vS3R0WlhZaUVaUTB5aGliN0FSCmc1R0ErQ2dVSVRlK0lGck1C
TWE5ZS9mTzNOWjhZWmpaOHp1N2UzWjNkblpab1lnTDNRcXJrdkVaUE1WN3RIQWRiWHpCV3R6QzI4
cisKdWI1bE51SUpUbU91VW10akd6NDNYY2trUnVKNEdsY3J0VmRZWDlrbjF6ZUlFM2lPUDloWGMv
NHRPTmNVTUEwNUdnKzBQNm10dzNkYwpUclJjWHd2M2hUdCtyeUVrWE1KQVRzaTdtSytwUDhKTXNw
M3JTN25ZSStSeGpGZkZ1dFJIOEtaR244VWg0YkdVK0VwNEVZUDJETGtkCkN6VjZPL1k3Q24ybHpH
TnZLbFJEYmhMbVZWc255MXFyd05jUER6RFJGUEkzbG1LcnNqcjJTd1crZnBqQVZGUElSZDNYdUEy
eC8xRGcKNjRjUnZFdUZ1ams1ZzgwMStsRHNQeGI2U2pnbXZEei8wQzNrN2hyOXFQRG0vaWowbFRD
R2h6a2hYK0lBOWlUYVZoekd0VDU4dVF6agpxeDV6ZVZLWUQ0TjRocHRKN2J6d1RWK1RhTG0rbEJ2
Q1l0NnhGdUtzc0t4MWtQNWdMT0pYYktlRVQ5dHRmTU11bk1UUHhKL3JJL3hVCjdNVEJ1UDBZcjNF
SFY2STJoRTlkTG02Ri80ZS91K3R5ZUYwcUx2c0FBQUFBU1VWT1JLNUNZSUk9Cg==
</png>
              <latex>$${\left|001\right\rangle }$$</latex>
              <prompt_number>9</prompt_number>
            </output>
          </outputs>
        </codecell>
      </cells>
    </worksheet>
  </worksheets>
</notebook>
