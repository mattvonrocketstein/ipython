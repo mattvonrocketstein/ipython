<?xml version="1.0" encoding="utf-8"?>
<notebook>
  <name>teleportation</name>
  <nbformat>2</nbformat>
  <worksheets>
    <worksheet>
      <cells>
        <markdowncell>
          <source>&lt;h1&gt;Teleportation&lt;/h1&gt;</source>
        </markdowncell>
        <codecell>
          <input>%load_ext sympyprinting</input>
          <language>python</language>
          <prompt_number>5</prompt_number>
          <collapsed>0</collapsed>
          <outputs />
        </codecell>
        <codecell>
          <input>from sympy import sqrt, symbols, Rational
from sympy import expand, Eq, Symbol, simplify, exp, sin
from sympy.physics.quantum import *
from sympy.physics.quantum.qubit import *
from sympy.physics.quantum.gate import *
from sympy.physics.quantum.grover import *
from sympy.physics.quantum.qft import QFT, IQFT, Fourier
from sympy.physics.quantum.circuitplot import circuit_plot</input>
          <language>python</language>
          <prompt_number>6</prompt_number>
          <collapsed>1</collapsed>
          <outputs />
        </codecell>
        <codecell>
          <input>a,b = symbols('a b', real=True)
state = Qubit('000')*a + Qubit('001')*b; state</input>
          <language>python</language>
          <prompt_number>7</prompt_number>
          <collapsed>0</collapsed>
          <outputs>
            <output>
              <output_type>pyout</output_type>
              <text>a⋅❘000⟩ + b⋅❘001⟩</text>
              <png>aVZCT1J3MEtHZ29BQUFBTlNVaEVVZ0FBQUhnQUFBQVZDQVlBQUFDTkRpcFdBQUFBQkhOQ1NWUUlD
QWdJZkFoa2lBQUFBNFZKUkVGVQphSUh0MlYySUZsVVl3UEhmNm9vdFdheGwwR0pGaEZGU04yWkZG
eFpiaExCUVVWMVVrZ1FSVkpjRjFVVlJ2QmRGQmRFWFhaUjYwUWNaCkVVR0ZXTjBGa1JYUjUyWW9T
bXowWWZSQkJJcFpaRjJjTXpDZW1Wbm5mWGRPYXJ6L216UG5tZWZNUEI5bnpweDVoaUZERGtQV1l1
bWgKTnVJd29qRWU4d2U0MkYxNEw1R3R3WDFZZ2RVNEhsdHJ4bmFsTjRNYnNXVUErL3ZsSHJ5SVIv
RXB0aWZuLzR0NHdGRjRFOXZ3UTNKdQpSb2Z4NkNYOXk3QXJHZ2ZIeGh0ZW1WbXZoOUcrTEIrY3Rk
aGZzaW0xbzB6WGZvN2lBaUc1LzhUak9ubzZpa2N2NlcvQk00bnNDZnlHCmhSbjF6c0ZWYlkwdU1T
SThNZjN3dE9ZbnE1ZjB1L1J6SGpiaGNieGs5Z1FQR284S3ZkTHhxbmpUcXhPZHFTaS9KSk5ld2Yz
OW1RN0cKOFZxZlk3WUtTYTZqVnpyTzVTZmNhdllFVXhPUGViTW90MkZsYkhjazhwMnhuY3lrVjVZ
dk83aVpjMklKbHVQZEZycTUvR3hMSlI1MQpDVjZCQi9BSW5zUGwrS0RoZ2lmR2RuY2kzeFBiaVV4
NkJTL2oyZ2JidW1LVnNLeVBZUjAyQ2t0bVhleHkrZG1XU2p6U2wvSnFQSTl6CjhSM093aWQ0cCtH
Q2hhRjdFbm5SSDgra1Y3QVhSemZZMWhVWHhYWUVOOGZqYVdIMy9GQ2ltOHZQdGxUaVVaNkZwd292
OGp1RTVCTGUKUGJzMUwwLzdZcnMva1M5STVGM3JGWXdKVHVYa1F1RXphWDFKdGwzOWhpYVhuMjJw
eEtPYzRJZUYzZHVySmRseUhLYzV3ZE1OOG1JVwo3Y3FrVjNDTnNDemxZcEh3eW5vN2tTL0Q0aHI5
WEg2MnBSS1BZb2tld2NWNHk0RXpZQkovNHNPR0MzNFIyOFg0cFNSZkZOc2ZNK2tWCm5DSHNFK280
R3k4SXZwV1pqMVB3V2MyWWJiaXUxRDgvNnBjbitNSjQzMDAxNDNQNTJaWktQSW9FbjRrVFZKMmV4
RWY0QTZmaDYrUjgKWWVqSkR0d1JuaGZiNlV4NmhPKytqelh6cGZydjNYRThxMXBRcU9OMDRiMzRU
VWsySlZTVjZqNjFjdmpabHRwNEZFdjA5OEtUdXJOMApia3hJY0ZIK3VxM21vcjhMems4bDhrdnhG
VFpuMGlQczdsK3ZzYWxMZHVCYjRmdXo0QWJoUWRoWW81L0R6N1ljTkI2YmNXODhYaUJVCldYN0du
VGdwdGxRck4ydUVaV1pKN0UvZ1Y2RzhsMHZ2bUpJOS9kSlBvV01VUDhYN2lUYk1DRXRoUVM4WjAz
VThDdTRXSnRvVk5lZGEKeFdOQzJQWS9KVlJ0bGdvN3hmZUZDa214ZGIrOVp1eE5RdEFld3h1NHBl
RWVYZWxkTHl4dmc5QnZKV3NsbnNRR1lkS25mMjF5eCtNVgpmSTYvaFFUdkZYNTZQRmpTbVVzOC9u
Y01VcW84WXBscnFmSkk1Qytob0Q5a3lKQWhRNFljU3Y0RlBRNHo3WW1kVjdrQUFBQUFTVVZPClJL
NUNZSUk9Cg==
</png>
              <latex>$$a {\left|000\right\rangle } + b {\left|001\right\rangle }$$</latex>
              <prompt_number>7</prompt_number>
            </output>
          </outputs>
        </codecell>
        <codecell>
          <input>entangle1_2 = CNOT(1,2)*HadamardGate(1); entangle1_2
</input>
          <language>python</language>
          <prompt_number>8</prompt_number>
          <collapsed>0</collapsed>
          <outputs>
            <output>
              <output_type>pyout</output_type>
              <text>CNOT   ⋅H 
    1,2  1</text>
              <png>aVZCT1J3MEtHZ29BQUFBTlNVaEVVZ0FBQUdRQUFBQWNDQVlBQUFDWGt4cjRBQUFBQkhOQ1NWUUlD
QWdJZkFoa2lBQUFCTmhKUkVGVQphSUh0MkhtSVYxVVVCL0RQakUxWnBwWVUyVGF0YWxGRW14VzAw
MElMSWtVVVdVRUxHclRRUmhHbFFkRktrVzFpQlNHMldCRmFFcEpaCk5HV203VVpobTBVYmJiUkhX
UlExL1hIdWo5K2JOKy85Zm0vRzBiYmZGeDd2M1hQT1BmZThjKzg5NTl4TEMvOHFqTWI1ZUFqUFlR
Rm0KWVN1MFlTWkdKdG5OMElYbDZNYkxCZnJHNHUzRTc4WjdPREFuMDQ1ak1BZjNwR2NCcnNZNk9k
bXVwT2RyUEpYa3ZrdTBkekUvMFQ5Swp0RXY2OVBmTnNTY1c0dHVNSGMvajZNU2ZKUHoyVytKL2hH
ZXhiVjhIR29TTDhSbk93S2dNYjNNOGpSbkN1WGxjZ05lVEFYdVY2Ty9DClVRWDByYkVNMHpFa1Er
OFFDK0hkTkQ1c2dxK0VVL0s2ZjhmNkdkb2FlQklubGRpenNyaGQvTzh1SmZ4MzhJM2VDNm9TT3JF
RUgySzcKRXBsZGt3RzNGZkJtWWUvRW4xblMvNzRDMnViNEFDZVg5Rms3MlRRbnRjL0IrSnpNbWxn
aDdNL2pNcjBuYjZDd0RKK1g4RFlXdm5pNApQNHJYd0F2Q01SczNrZjFTNzFYZWhnZlQ5eXY0QlNO
eU1pTndTNDQyVXF6K081cU1lWS80dVMzU09JTnkvTnBDdUs2Zzc2MTY3cHFCCndnWnB6RmtsL0Ft
SmYyNFZaZTI1OWhYWUExT1V6M2dOeTBWNHlHSkhzVnFJc0RNWXArUms5c1dpVEh1WUNDZnJWakQ2
dmZUZUdmUHcKUjQ2L2Yzb3ZMT2o3aXNndkE0MzkwanZ2aXhvT1NPOGlteHBpRi9HRHkvU2VxQ0lj
VjBBN1U5MHBRL0M5bUxpMmpNeU42b1VBWENoVwowRFVWeHJ3N3lSYU5UU1R4UHpDOGdxNkJ3czND
cGxFbC9PWENEMVY4MmdPWEpzVVQrMjFhNUl6Qm1mWXRTZWNoR2RyOW1lOTJmSnhrCnhsVFEvM0tT
M2JLQU53Zy80dFhxNWc0SWx1SlhzUmp5ejlQQzNubjlVZnhZNnJ6YlNoajNZSzY5ZmRKWlM4VERS
RVZTdzFhSi8xVUYKM2V1TG5GUVdTbmRQdW02cWF1d0FZRDJ4SS9QL1hVTXRmMXhVVldGMkcrMkpQ
L0ZtaFg2akMyaWp4UGJNNGkyeFNzWmhVK3lEeFJsKwpyUjcvb01LWVo0amRONmVFWDR2bGZZN1ZL
NEY5aEE4WE5lRFRUNXVXaWxxNUdUWlVITzlQdzZFRjlHUEZLcmtjMStvWmJuWkt2Q2VhCmpMa1d2
aEFUTjdSRTVwR2thOE1tdWdZUzE2Y3hkeTdodjQ2ZlJQWGFaMHhOeWp1YnlGMk9qUXJvZDRsS0tZ
OE80Y3hQTVR2SGF4ZVYKejg5NjVwNDhyaE83OTRBU2ZwczRKVmZaM1oxNG9JTGNCRXdXcGZobGVw
Zll4QkhoQjhVSmU3Z0laNDBXVzBOYjloTEo2ZUlHQ2s1UApUeEhLNGloY0tTYjczZ0xlbllsM2VF
bmZDOFJoNzlRRytuZE1PcVkza0JraUhIeXZldmxjaGlQVnoxanRlQWJUY2pMcmlodUIrU1U2CkRr
ODJUVjRaV3c0VFAzKzJPQm5YTUVhRW15TksrcDJBUnh2bzdSU3JaVklCcnlQMVhhem5JWElMc1J2
ZndBNk5qQlkvMTQwVG04akIKd1pwUHlGUThubW1mS3c3Q1dZeFBZMDVwb0tOYithNnVhb3V4dUVG
Y2dpMFFwZXhrVVJIbGNRVGVWNzhzWENyeVFoSG1LQzRHaUJ4eApuZ2g3TTlJelhkdzlyVjNTWjZJ
SUIwdEVPT3NXWWZFcDVhZG1xam1oVTg5cmxxdndXdnFlaEJkRnFPb1dWVjhYdGtuOGFjSVB2eWYr
Ck81aXI1MW1zTDdiODU5RlhKd3pGSjZuZktyZWx6NmZIL3huYXhVNDlTMXp2ckpZQld5akhGSEUx
TWxma3RGV08xb1RVY1pBb01HcVkKS0s1NVhoTHh2MUdWMTBJLzBDWk8rN05GSlRsRi9YVGZJWkww
T2FsOXVucWhVbnZtcmc1YmlqTC9meGtqYyswVjRrS1NtSlRqeFkzeQpjTDJydTZ6c3FyYWxCZUdn
Y1grM0VTM1VjYVpXVHYxSG9WOFhnQzIwMEVJTExiVHdUOEZmaVpFbWFBajJUQThBQUFBQVNVVk9S
SzVDCllJST0K
</png>
              <latex>$$CNOT_{1,2} H_{1}$$</latex>
              <prompt_number>8</prompt_number>
            </output>
          </outputs>
        </codecell>
        <codecell>
          <input>state = qapply(entangle1_2*state); state
</input>
          <language>python</language>
          <prompt_number>9</prompt_number>
          <collapsed>0</collapsed>
          <outputs>
            <output>
              <output_type>pyout</output_type>
              <text>⎽⎽⎽             ⎽⎽⎽             ⎽⎽⎽             ⎽⎽⎽        
╲╱ 2 ⋅a⋅❘000⟩   ╲╱ 2 ⋅a⋅❘110⟩   ╲╱ 2 ⋅b⋅❘001⟩   ╲╱ 2 ⋅b⋅❘111⟩
───────────── + ───────────── + ───────────── + ─────────────
      2               2               2               2</text>
              <png>aVZCT1J3MEtHZ29BQUFBTlNVaEVVZ0FBQWRvQUFBQWtDQVlBQUFBdUMvdHlBQUFBQkhOQ1NWUUlD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</png>
              <latex>$$\frac{1}{2} \sqrt{2} a {\left|000\right\rangle } + \frac{1}{2} \sqrt{2} a {\left|110\right\rangle } + \frac{1}{2} \sqrt{2} b {\left|001\right\rangle } + \frac{1}{2} \sqrt{2} b {\left|111\right\rangle }$$</latex>
              <prompt_number>9</prompt_number>
            </output>
          </outputs>
        </codecell>
        <codecell>
          <input>entangle0_1 = HadamardGate(0)*CNOT(0,1); entangle0_1
</input>
          <language>python</language>
          <prompt_number>10</prompt_number>
          <collapsed>0</collapsed>
          <outputs>
            <output>
              <output_type>pyout</output_type>
              <text>H ⋅CNOT   
 0     0,1</text>
              <png>aVZCT1J3MEtHZ29BQUFBTlNVaEVVZ0FBQUdRQUFBQWNDQVlBQUFDWGt4cjRBQUFBQkhOQ1NWUUlD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</png>
              <latex>$$H_{0} CNOT_{0,1}$$</latex>
              <prompt_number>10</prompt_number>
            </output>
          </outputs>
        </codecell>
        <codecell>
          <input>circuit_plot(entangle0_1*entangle1_2, nqubits=3)
</input>
          <language>python</language>
          <prompt_number>11</prompt_number>
          <collapsed>0</collapsed>
          <outputs>
            <output>
              <output_type>pyout</output_type>
              <text>&amp;lt;sympy.physics.quantum.circuitplot.CircuitPlot object at 0x3b9fb90&amp;gt;</text>
              <prompt_number>11</prompt_number>
            </output>
            <output>
              <output_type>display_data</output_type>
              <png>aVZCT1J3MEtHZ29BQUFBTlNVaEVVZ0FBQVE4QUFBREZDQVlBQUFCS0szZFlBQUFBQkhOQ1NWUUlD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</png>
            </output>
          </outputs>
        </codecell>
        <codecell>
          <input>state = qapply(entangle0_1*state); state
</input>
          <language>python</language>
          <prompt_number>12</prompt_number>
          <collapsed>0</collapsed>
          <outputs>
            <output>
              <output_type>pyout</output_type>
              <text>a⋅❘000⟩   a⋅❘001⟩   a⋅❘110⟩   a⋅❘111⟩   b⋅❘010⟩   b⋅❘011⟩   b⋅❘100⟩   b⋅❘101⟩
─────── + ─────── + ─────── + ─────── + ─────── - ─────── + ─────── - ───────
   2         2         2         2         2         2         2         2</text>
              <png>aVZCT1J3MEtHZ29BQUFBTlNVaEVVZ0FBQXI0QUFBQWlDQVlBQUFDNXZOcGtBQUFBQkhOQ1NWUUlD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</png>
              <latex>$$\frac{1}{2} a {\left|000\right\rangle } + \frac{1}{2} a {\left|001\right\rangle } + \frac{1}{2} a {\left|110\right\rangle } + \frac{1}{2} a {\left|111\right\rangle } + \frac{1}{2} b {\left|010\right\rangle } - \frac{1}{2} b {\left|011\right\rangle } + \frac{1}{2} b {\left|100\right\rangle } - \frac{1}{2} b {\left|101\right\rangle }$$</latex>
              <prompt_number>12</prompt_number>
            </output>
          </outputs>
        </codecell>
        <codecell>
          <input>result = measure_partial(state, (0,1))
</input>
          <language>python</language>
          <prompt_number>13</prompt_number>
          <collapsed>1</collapsed>
          <outputs />
        </codecell>
        <codecell>
          <input>state = (result[2][0]*2).expand(); state</input>
          <language>python</language>
          <prompt_number>14</prompt_number>
          <collapsed>0</collapsed>
          <outputs>
            <output>
              <output_type>pyout</output_type>
              <text>a⋅❘110⟩                                              
───────────────────────────────────────────────────────── + ──────────────────
                      ⎽⎽⎽⎽⎽⎽⎽⎽⎽⎽⎽⎽⎽⎽⎽⎽⎽⎽⎽⎽⎽⎽⎽⎽⎽⎽⎽⎽⎽⎽⎽⎽⎽⎽⎽                     
                     ╱               2                 2                      
                    ╱  │     a      │    │     b      │                       
                   ╱   │────────────│    │────────────│                       
                  ╱    │   ⎽⎽⎽⎽⎽⎽⎽⎽⎽│    │   ⎽⎽⎽⎽⎽⎽⎽⎽⎽│                       
   ⎽⎽⎽⎽⎽⎽⎽⎽⎽     ╱     │  ╱  2    2 │    │  ╱  2    2 │        ⎽⎽⎽⎽⎽⎽⎽⎽⎽     ╱
  ╱  2    2     ╱      │╲╱  a  + b  │    │╲╱  a  + b  │       ╱  2    2     ╱ 
╲╱  a  + b  ⋅  ╱       ─────────────── + ───────────────    ╲╱  a  + b  ⋅  ╱  
             ╲╱               4                 4                        ╲╱   

       b⋅❘010⟩                         
───────────────────────────────────────
    ⎽⎽⎽⎽⎽⎽⎽⎽⎽⎽⎽⎽⎽⎽⎽⎽⎽⎽⎽⎽⎽⎽⎽⎽⎽⎽⎽⎽⎽⎽⎽⎽⎽⎽⎽
   ╱               2                 2 
  ╱  │     a      │    │     b      │  
 ╱   │────────────│    │────────────│  
╱    │   ⎽⎽⎽⎽⎽⎽⎽⎽⎽│    │   ⎽⎽⎽⎽⎽⎽⎽⎽⎽│  
     │  ╱  2    2 │    │  ╱  2    2 │  
     │╲╱  a  + b  │    │╲╱  a  + b  │  
     ─────────────── + ─────────────── 
            4                 4</text>
              <latex>$$\frac{a {\left|110\right\rangle }}{\sqrt{a^{2} + b^{2}} \sqrt{\frac{1}{4} \lvert{\frac{a}{\sqrt{a^{2} + b^{2}}}}\rvert^{2} + \frac{1}{4} \lvert{\frac{b}{\sqrt{a^{2} + b^{2}}}}\rvert^{2}}} + \frac{b {\left|010\right\rangle }}{\sqrt{a^{2} + b^{2}} \sqrt{\frac{1}{4} \lvert{\frac{a}{\sqrt{a^{2} + b^{2}}}}\rvert^{2} + \frac{1}{4} \lvert{\frac{b}{\sqrt{a^{2} + b^{2}}}}\rvert^{2}}}$$</latex>
              <prompt_number>14</prompt_number>
            </output>
          </outputs>
        </codecell>
        <codecell>
          <input>state = qapply(XGate(2)*state); state
</input>
          <language>python</language>
          <prompt_number>15</prompt_number>
          <collapsed>0</collapsed>
          <outputs>
            <output>
              <output_type>pyout</output_type>
              <text>a⋅❘010⟩                                              
───────────────────────────────────────────────────────── + ──────────────────
                      ⎽⎽⎽⎽⎽⎽⎽⎽⎽⎽⎽⎽⎽⎽⎽⎽⎽⎽⎽⎽⎽⎽⎽⎽⎽⎽⎽⎽⎽⎽⎽⎽⎽⎽⎽                     
                     ╱               2                 2                      
                    ╱  │     a      │    │     b      │                       
                   ╱   │────────────│    │────────────│                       
                  ╱    │   ⎽⎽⎽⎽⎽⎽⎽⎽⎽│    │   ⎽⎽⎽⎽⎽⎽⎽⎽⎽│                       
   ⎽⎽⎽⎽⎽⎽⎽⎽⎽     ╱     │  ╱  2    2 │    │  ╱  2    2 │        ⎽⎽⎽⎽⎽⎽⎽⎽⎽     ╱
  ╱  2    2     ╱      │╲╱  a  + b  │    │╲╱  a  + b  │       ╱  2    2     ╱ 
╲╱  a  + b  ⋅  ╱       ─────────────── + ───────────────    ╲╱  a  + b  ⋅  ╱  
             ╲╱               4                 4                        ╲╱   

       b⋅❘110⟩                         
───────────────────────────────────────
    ⎽⎽⎽⎽⎽⎽⎽⎽⎽⎽⎽⎽⎽⎽⎽⎽⎽⎽⎽⎽⎽⎽⎽⎽⎽⎽⎽⎽⎽⎽⎽⎽⎽⎽⎽
   ╱               2                 2 
  ╱  │     a      │    │     b      │  
 ╱   │────────────│    │────────────│  
╱    │   ⎽⎽⎽⎽⎽⎽⎽⎽⎽│    │   ⎽⎽⎽⎽⎽⎽⎽⎽⎽│  
     │  ╱  2    2 │    │  ╱  2    2 │  
     │╲╱  a  + b  │    │╲╱  a  + b  │  
     ─────────────── + ─────────────── 
            4                 4</text>
              <latex>$$\frac{a {\left|010\right\rangle }}{\sqrt{a^{2} + b^{2}} \sqrt{\frac{1}{4} \lvert{\frac{a}{\sqrt{a^{2} + b^{2}}}}\rvert^{2} + \frac{1}{4} \lvert{\frac{b}{\sqrt{a^{2} + b^{2}}}}\rvert^{2}}} + \frac{b {\left|110\right\rangle }}{\sqrt{a^{2} + b^{2}} \sqrt{\frac{1}{4} \lvert{\frac{a}{\sqrt{a^{2} + b^{2}}}}\rvert^{2} + \frac{1}{4} \lvert{\frac{b}{\sqrt{a^{2} + b^{2}}}}\rvert^{2}}}$$</latex>
              <prompt_number>15</prompt_number>
            </output>
          </outputs>
        </codecell>
      </cells>
    </worksheet>
  </worksheets>
</notebook>
