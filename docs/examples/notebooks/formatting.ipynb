<?xml version="1.0" encoding="utf-8"?>
<notebook>
  <name>formatting</name>
  <id>3eaf4ff7-e2c8-46f2-acd3-be16df73aee6</id>
  <nbformat>2</nbformat>
  <worksheets>
    <worksheet>
      <cells>
        <markdowncell>
          <source># Title (h1)

## Heading (h2)

### Heading (h3)

Here is a paragraph of text.

* One.
    - Sublist
        - Here we go
  - Sublist
        - Here we go
        - Here we go
* Two.
  - Sublist
* Three.
  - Sublist

Now another list:

---

1. Here we go
    1. Sublist
    2. Sublist
2. There we go
3. Now this

And another paragraph.

### Heading (h3)

#### Heading (h4)

##### Heading (h5)

###### Heading (h6)

## Heading (h2)

</source>
          <rendered>&lt;h1&gt;Title (h1)&lt;/h1&gt;

&lt;h2&gt;Heading (h2)&lt;/h2&gt;

&lt;h3&gt;Heading (h3)&lt;/h3&gt;

&lt;p&gt;Here is a paragraph of text.&lt;/p&gt;

&lt;ul&gt;
&lt;li&gt;One.
&lt;ul&gt;&lt;li&gt;Sublist
&lt;ul&gt;&lt;li&gt;Here we go&lt;/li&gt;&lt;/ul&gt;&lt;/li&gt;
&lt;li&gt;Sublist
&lt;ul&gt;&lt;li&gt;Here we go&lt;/li&gt;
&lt;li&gt;Here we go&lt;/li&gt;&lt;/ul&gt;&lt;/li&gt;&lt;/ul&gt;&lt;/li&gt;
&lt;li&gt;Two.
&lt;ul&gt;&lt;li&gt;Sublist&lt;/li&gt;&lt;/ul&gt;&lt;/li&gt;
&lt;li&gt;Three.
&lt;ul&gt;&lt;li&gt;Sublist&lt;/li&gt;&lt;/ul&gt;&lt;/li&gt;
&lt;/ul&gt;

&lt;p&gt;Now another list:&lt;/p&gt;

&lt;hr&gt;

&lt;ol&gt;
&lt;li&gt;Here we go
&lt;ol&gt;&lt;li&gt;Sublist&lt;/li&gt;
&lt;li&gt;Sublist&lt;/li&gt;&lt;/ol&gt;&lt;/li&gt;
&lt;li&gt;There we go&lt;/li&gt;
&lt;li&gt;Now this&lt;/li&gt;
&lt;/ol&gt;

&lt;p&gt;And another paragraph.&lt;/p&gt;

&lt;h3&gt;Heading (h3)&lt;/h3&gt;

&lt;h4&gt;Heading (h4)&lt;/h4&gt;

&lt;h5&gt;Heading (h5)&lt;/h5&gt;

&lt;h6&gt;Heading (h6)&lt;/h6&gt;

&lt;h2&gt;Heading (h2)&lt;/h2&gt;</rendered>
        </markdowncell>
        <markdowncell>
          <source># Heading (h1)

## Heading (h2)

### Heading (h3)

#### Heading (h4)

##### Heading (h5)

###### Heading (h6)

Now for a simpel code example:

    for i in range(10):
        print i

Now more text</source>
          <rendered>&lt;h1&gt;Heading (h1)&lt;/h1&gt;

&lt;h2&gt;Heading (h2)&lt;/h2&gt;

&lt;h3&gt;Heading (h3)&lt;/h3&gt;

&lt;h4&gt;Heading (h4)&lt;/h4&gt;

&lt;h5&gt;Heading (h5)&lt;/h5&gt;

&lt;h6&gt;Heading (h6)&lt;/h6&gt;

&lt;p&gt;Now for a simpel code example:&lt;/p&gt;

&lt;pre&gt;&lt;code&gt;for i in range(10):
    print i
&lt;/code&gt;&lt;/pre&gt;

&lt;p&gt;Now more text&lt;/p&gt;</rendered>
        </markdowncell>
        <markdowncell>
          <source>## Heading (h2)

Here is text.

&gt; This is a *block* quote. This is a block quote. This is a block quote.  
&gt; This is a **block** quote. This is a block quote. This is a block quote.  
&gt; This is a `block` quote. This is a block quote. This is a block quote.  
&gt; This is a block quote. This is a block quote. This is a block quote.  
&gt; This is a block quote. This is a block quote. This is a block quote.  
&gt; This is a block quote. This is a block quote. This is a block quote.  

Here is text

&lt;table&gt;
&lt;tr&gt;
&lt;th&gt;Header 1&lt;/th&gt;
&lt;th&gt;Header 2&lt;/th&gt;
&lt;/tr&gt;
&lt;tr&gt;
&lt;td&gt;row 1, cell 1&lt;/td&gt;
&lt;td&gt;row 1, cell 2&lt;/td&gt;
&lt;/tr&gt;
&lt;tr&gt;
&lt;td&gt;row 2, cell 1&lt;/td&gt;
&lt;td&gt;row 2, cell 2&lt;/td&gt;
&lt;/tr&gt;
&lt;/table&gt;</source>
          <rendered>&lt;h2&gt;Heading (h2)&lt;/h2&gt;

&lt;p&gt;Here is text.&lt;/p&gt;

&lt;blockquote&gt;
  &lt;p&gt;This is a &lt;em&gt;block&lt;/em&gt; quote. This is a block quote. This is a block quote. &lt;br&gt;
  This is a &lt;strong&gt;block&lt;/strong&gt; quote. This is a block quote. This is a block quote. &lt;br&gt;
  This is a &lt;code&gt;block&lt;/code&gt; quote. This is a block quote. This is a block quote. &lt;br&gt;
  This is a block quote. This is a block quote. This is a block quote. &lt;br&gt;
  This is a block quote. This is a block quote. This is a block quote. &lt;br&gt;
  This is a block quote. This is a block quote. This is a block quote.  &lt;/p&gt;
&lt;/blockquote&gt;

&lt;p&gt;Here is text&lt;/p&gt;

&lt;table&gt;
&lt;tbody&gt;&lt;tr&gt;
&lt;th&gt;Header 1&lt;/th&gt;
&lt;th&gt;Header 2&lt;/th&gt;
&lt;/tr&gt;
&lt;tr&gt;
&lt;td&gt;row 1, cell 1&lt;/td&gt;
&lt;td&gt;row 1, cell 2&lt;/td&gt;
&lt;/tr&gt;
&lt;tr&gt;
&lt;td&gt;row 2, cell 1&lt;/td&gt;
&lt;td&gt;row 2, cell 2&lt;/td&gt;
&lt;/tr&gt;
&lt;/tbody&gt;&lt;/table&gt;</rendered>
        </markdowncell>
        <codecell>
          <input />
          <language>python</language>
          <outputs />
        </codecell>
      </cells>
    </worksheet>
  </worksheets>
</notebook>
