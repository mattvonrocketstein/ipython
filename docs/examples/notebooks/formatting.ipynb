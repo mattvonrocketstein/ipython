<?xml version="1.0" encoding="utf-8"?>
<notebook>
  <name>formatting</name>
  <nbformat>2</nbformat>
  <worksheets>
    <worksheet>
      <cells>
        <markdowncell>
          <source># Title (h1)

## Heading (h2)

### Heading (h3)

Here is a paragraph of text.

* One.
    - Sublist
        - Here we go
  - Sublist
        - Here we go
        - Here we go
* Two.
  - Sublist
* Three.
  - Sublist

Now another list:

---

1. Here we go
    1. Sublist
    2. Sublist
2. There we go
3. Now this

And another paragraph.

### Heading (h3)

#### Heading (h4)

##### Heading (h5)

###### Heading (h6)

## Heading (h2)

</source>
        </markdowncell>
        <markdowncell>
          <source># Heading (h1)

## Heading (h2)

### Heading (h3)

#### Heading (h4)

##### Heading (h5)

###### Heading (h6)

Now for a simpel code example:

    for i in range(10):
        print i

Now more text</source>
        </markdowncell>
        <markdowncell>
          <source>## Heading (h2)

Here is text.

&gt; This is a *block* quote. This is a block quote. This is a block quote.  
&gt; This is a **block** quote. This is a block quote. This is a block quote.  
&gt; This is a `block` quote. This is a block quote. This is a block quote.  
&gt; This is a block quote. This is a block quote. This is a block quote.  
&gt; This is a block quote. This is a block quote. This is a block quote.  
&gt; This is a block quote. This is a block quote. This is a block quote.  

Here is text

&lt;table&gt;
&lt;tr&gt;
&lt;th&gt;Header 1&lt;/th&gt;
&lt;th&gt;Header 2&lt;/th&gt;
&lt;/tr&gt;
&lt;tr&gt;
&lt;td&gt;row 1, cell 1&lt;/td&gt;
&lt;td&gt;row 1, cell 2&lt;/td&gt;
&lt;/tr&gt;
&lt;tr&gt;
&lt;td&gt;row 2, cell 1&lt;/td&gt;
&lt;td&gt;row 2, cell 2&lt;/td&gt;
&lt;/tr&gt;
&lt;/table&gt;</source>
        </markdowncell>
        <codecell>
          <input />
          <language>python</language>
          <collapsed>1</collapsed>
          <outputs />
        </codecell>
      </cells>
    </worksheet>
  </worksheets>
</notebook>
