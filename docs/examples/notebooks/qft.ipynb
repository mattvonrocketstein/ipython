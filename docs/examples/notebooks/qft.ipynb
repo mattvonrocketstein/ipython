<?xml version="1.0" encoding="utf-8"?>
<notebook>
  <name>qft</name>
  <nbformat>2</nbformat>
  <worksheets>
    <worksheet>
      <cells>
        <markdowncell>
          <source>&lt;h1&gt;Quantum Fourier Transform&lt;/h1&gt;</source>
        </markdowncell>
        <codecell>
          <input>%load_ext sympyprinting</input>
          <language>python</language>
          <prompt_number>1</prompt_number>
          <collapsed>1</collapsed>
          <outputs />
        </codecell>
        <codecell>
          <input>from sympy import sqrt, symbols, Rational
from sympy import expand, Eq, Symbol, simplify, exp, sin
from sympy.physics.quantum import *
from sympy.physics.quantum.qubit import *
from sympy.physics.quantum.gate import *
from sympy.physics.quantum.grover import *
from sympy.physics.quantum.qft import QFT, IQFT, Fourier
from sympy.physics.quantum.circuitplot import circuit_plot</input>
          <language>python</language>
          <prompt_number>2</prompt_number>
          <collapsed>1</collapsed>
          <outputs />
        </codecell>
        <markdowncell>
          <source>QFT is useful for a quantum algorithm for factoring numbers which is exponentially faster than what is thought to be possible on a classical machine.&lt;br&gt;
The transform does a DFT on the state of a quantum system&lt;br&gt;
There is a simple decomposition of the QFT in terms of a few elementary gates.</source>
        </markdowncell>
        <markdowncell>
          <source>&lt;h2&gt;QFT Gate and Circuit&lt;/h2&gt;</source>
        </markdowncell>
        <markdowncell>
          <source>Build a 3 qubit QFT and decompose it into primitive gates.</source>
        </markdowncell>
        <codecell>
          <input>fourier = QFT(0,3).decompose(); fourier
</input>
          <language>python</language>
          <prompt_number>3</prompt_number>
          <collapsed>0</collapsed>
          <outputs>
            <output>
              <output_type>pyout</output_type>
              <text>SWAP   ⋅H ⋅C ⎛S ⎞⋅H ⋅C ⎛T ⎞⋅C ⎛S ⎞⋅H 
    0,2  0  0⎝ 1⎠  1  0⎝ 2⎠  1⎝ 2⎠  2</text>
              <png>aVZCT1J3MEtHZ29BQUFBTlNVaEVVZ0FBQVRrQUFBQWNDQVlBQUFBYTk4akFBQUFBQkhOQ1NWUUlD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</png>
              <latex>$$SWAP_{0,2} H_{0} C_{0}{\left(S_{1}\right)} H_{1} C_{0}{\left(T_{2}\right)} C_{1}{\left(S_{2}\right)} H_{2}$$</latex>
              <prompt_number>3</prompt_number>
            </output>
          </outputs>
        </codecell>
        <codecell>
          <input>circuit_plot(fourier, nqubits=3)</input>
          <language>python</language>
          <prompt_number>4</prompt_number>
          <collapsed>0</collapsed>
          <outputs>
            <output>
              <output_type>pyout</output_type>
              <text>&amp;lt;sympy.physics.quantum.circuitplot.CircuitPlot object at 0x4992910&amp;gt;</text>
              <prompt_number>4</prompt_number>
            </output>
            <output>
              <output_type>display_data</output_type>
              <png>aVZCT1J3MEtHZ29BQUFBTlNVaEVVZ0FBQWE4QUFBREZDQVlBQUFEamMzMkpBQUFBQkhOQ1NWUUlD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</png>
            </output>
          </outputs>
        </codecell>
        <markdowncell>
          <source>The QFT circuit can be represented in various symbolic forms.</source>
        </markdowncell>
        <codecell>
          <input>m = represent(fourier, nqubits=3)</input>
          <language>python</language>
          <prompt_number>5</prompt_number>
          <collapsed>1</collapsed>
          <outputs />
        </codecell>
        <codecell>
          <input>m</input>
          <language>python</language>
          <prompt_number>6</prompt_number>
          <collapsed>0</collapsed>
          <outputs>
            <output>
              <output_type>pyout</output_type>
              <text>⎡  ⎽⎽⎽        ⎽⎽⎽         ⎽⎽⎽          ⎽⎽⎽        ⎽⎽⎽         ⎽⎽⎽         ⎽⎽⎽ 
⎢╲╱ 2       ╲╱ 2        ╲╱ 2         ╲╱ 2       ╲╱ 2        ╲╱ 2        ╲╱ 2  
⎢─────      ─────       ─────        ─────      ─────       ─────       ───── 
⎢  4          4           4            4          4           4           4   
⎢                                                                             
⎢               ⅈ⋅π                       ⅈ⋅π                    ⅈ⋅π          
⎢               ───                       ───                    ───          
⎢  ⎽⎽⎽     ⎽⎽⎽   4       ⎽⎽⎽       ⎽⎽⎽     4       ⎽⎽⎽      ⎽⎽⎽   4       ⎽⎽⎽ 
⎢╲╱ 2    ╲╱ 2 ⋅ℯ       ╲╱ 2 ⋅ⅈ   ╲╱ 2 ⋅ⅈ⋅ℯ      -╲╱ 2    -╲╱ 2 ⋅ℯ      -╲╱ 2 ⋅
⎢─────   ──────────    ───────   ────────────   ──────   ───────────   ───────
⎢  4         4            4           4           4           4           4   
⎢                                                                             
⎢  ⎽⎽⎽       ⎽⎽⎽           ⎽⎽⎽        ⎽⎽⎽         ⎽⎽⎽        ⎽⎽⎽           ⎽⎽⎽
⎢╲╱ 2      ╲╱ 2 ⋅ⅈ      -╲╱ 2      -╲╱ 2 ⋅ⅈ     ╲╱ 2       ╲╱ 2 ⋅ⅈ      -╲╱ 2 
⎢─────     ───────      ──────     ────────     ─────      ───────      ──────
⎢  4          4           4           4           4           4           4   
⎢                                                                             
⎢                ⅈ⋅π                     ⅈ⋅π                      ⅈ⋅π         
⎢                ───                     ───                      ───         
⎢  ⎽⎽⎽    ⎽⎽⎽     4       ⎽⎽⎽       ⎽⎽⎽   4        ⎽⎽⎽     ⎽⎽⎽     4     ⎽⎽⎽  
⎢╲╱ 2   ╲╱ 2 ⋅ⅈ⋅ℯ      -╲╱ 2 ⋅ⅈ   ╲╱ 2 ⋅ℯ       -╲╱ 2   -╲╱ 2 ⋅ⅈ⋅ℯ     ╲╱ 2 ⋅ⅈ
⎢─────  ────────────   ────────   ──────────    ──────  ─────────────  ───────
⎢  4         4            4           4           4           4           4   
⎢                                                                             
⎢  ⎽⎽⎽        ⎽⎽⎽         ⎽⎽⎽          ⎽⎽⎽        ⎽⎽⎽         ⎽⎽⎽         ⎽⎽⎽ 
⎢╲╱ 2      -╲╱ 2        ╲╱ 2        -╲╱ 2       ╲╱ 2       -╲╱ 2        ╲╱ 2  
⎢─────     ──────       ─────       ──────      ─────      ──────       ───── 
⎢  4         4            4           4           4          4            4   
⎢                                                                             
⎢                ⅈ⋅π                       ⅈ⋅π                  ⅈ⋅π           
⎢                ───                       ───                  ───           
⎢  ⎽⎽⎽      ⎽⎽⎽   4      ⎽⎽⎽        ⎽⎽⎽     4      ⎽⎽⎽     ⎽⎽⎽   4        ⎽⎽⎽ 
⎢╲╱ 2    -╲╱ 2 ⋅ℯ      ╲╱ 2 ⋅ⅈ   -╲╱ 2 ⋅ⅈ⋅ℯ     -╲╱ 2    ╲╱ 2 ⋅ℯ       -╲╱ 2 ⋅
⎢─────   ───────────   ───────   ─────────────  ──────   ──────────    ───────
⎢  4          4           4            4          4          4            4   
⎢                                                                             
⎢  ⎽⎽⎽       ⎽⎽⎽           ⎽⎽⎽        ⎽⎽⎽         ⎽⎽⎽        ⎽⎽⎽           ⎽⎽⎽
⎢╲╱ 2     -╲╱ 2 ⋅ⅈ      -╲╱ 2       ╲╱ 2 ⋅ⅈ     ╲╱ 2      -╲╱ 2 ⋅ⅈ      -╲╱ 2 
⎢─────    ────────      ──────      ───────     ─────     ────────      ──────
⎢  4         4            4            4          4          4            4   
⎢                                                                             
⎢                 ⅈ⋅π                     ⅈ⋅π                    ⅈ⋅π          
⎢                 ───                     ───                    ───          
⎢  ⎽⎽⎽     ⎽⎽⎽     4      ⎽⎽⎽        ⎽⎽⎽   4       ⎽⎽⎽    ⎽⎽⎽     4      ⎽⎽⎽  
⎢╲╱ 2   -╲╱ 2 ⋅ⅈ⋅ℯ     -╲╱ 2 ⋅ⅈ   -╲╱ 2 ⋅ℯ      -╲╱ 2   ╲╱ 2 ⋅ⅈ⋅ℯ      ╲╱ 2 ⋅ⅈ
⎢─────  ─────────────  ────────   ───────────   ──────  ────────────   ───────
⎣  4          4           4            4          4          4            4   

         ⎽⎽⎽    ⎤
       ╲╱ 2     ⎥
       ─────    ⎥
         4      ⎥
                ⎥
             ⅈ⋅π⎥
             ───⎥
      ⎽⎽⎽     4 ⎥
ⅈ  -╲╱ 2 ⋅ⅈ⋅ℯ   ⎥
─  ─────────────⎥
         4      ⎥
                ⎥
        ⎽⎽⎽     ⎥
     -╲╱ 2 ⋅ⅈ   ⎥
     ────────   ⎥
        4       ⎥
                ⎥
            ⅈ⋅π ⎥
            ─── ⎥
       ⎽⎽⎽   4  ⎥
    -╲╱ 2 ⋅ℯ    ⎥
    ─────────── ⎥
         4      ⎥
                ⎥
         ⎽⎽⎽    ⎥
      -╲╱ 2     ⎥
      ──────    ⎥
        4       ⎥
                ⎥
            ⅈ⋅π ⎥
            ─── ⎥
     ⎽⎽⎽     4  ⎥
ⅈ  ╲╱ 2 ⋅ⅈ⋅ℯ    ⎥
─  ──────────── ⎥
        4       ⎥
                ⎥
        ⎽⎽⎽     ⎥
      ╲╱ 2 ⋅ⅈ   ⎥
      ───────   ⎥
         4      ⎥
                ⎥
           ⅈ⋅π  ⎥
           ───  ⎥
      ⎽⎽⎽   4   ⎥
    ╲╱ 2 ⋅ℯ     ⎥
    ──────────  ⎥
        4       ⎦</text>
              <latex>$$\left(\begin{smallmatrix}\frac{1}{4} \sqrt{2} &amp; \frac{1}{4} \sqrt{2} &amp; \frac{1}{4} \sqrt{2} &amp; \frac{1}{4} \sqrt{2} &amp; \frac{1}{4} \sqrt{2} &amp; \frac{1}{4} \sqrt{2} &amp; \frac{1}{4} \sqrt{2} &amp; \frac{1}{4} \sqrt{2}\\\frac{1}{4} \sqrt{2} &amp; \frac{1}{4} \sqrt{2} e^{\frac{1}{4} \mathbf{\imath} \pi} &amp; \frac{1}{4} \sqrt{2} \mathbf{\imath} &amp; \frac{1}{4} \sqrt{2} \mathbf{\imath} e^{\frac{1}{4} \mathbf{\imath} \pi} &amp; - \frac{1}{4} \sqrt{2} &amp; - \frac{1}{4} \sqrt{2} e^{\frac{1}{4} \mathbf{\imath} \pi} &amp; - \frac{1}{4} \sqrt{2} \mathbf{\imath} &amp; - \frac{1}{4} \sqrt{2} \mathbf{\imath} e^{\frac{1}{4} \mathbf{\imath} \pi}\\\frac{1}{4} \sqrt{2} &amp; \frac{1}{4} \sqrt{2} \mathbf{\imath} &amp; - \frac{1}{4} \sqrt{2} &amp; - \frac{1}{4} \sqrt{2} \mathbf{\imath} &amp; \frac{1}{4} \sqrt{2} &amp; \frac{1}{4} \sqrt{2} \mathbf{\imath} &amp; - \frac{1}{4} \sqrt{2} &amp; - \frac{1}{4} \sqrt{2} \mathbf{\imath}\\\frac{1}{4} \sqrt{2} &amp; \frac{1}{4} \sqrt{2} \mathbf{\imath} e^{\frac{1}{4} \mathbf{\imath} \pi} &amp; - \frac{1}{4} \sqrt{2} \mathbf{\imath} &amp; \frac{1}{4} \sqrt{2} e^{\frac{1}{4} \mathbf{\imath} \pi} &amp; - \frac{1}{4} \sqrt{2} &amp; - \frac{1}{4} \sqrt{2} \mathbf{\imath} e^{\frac{1}{4} \mathbf{\imath} \pi} &amp; \frac{1}{4} \sqrt{2} \mathbf{\imath} &amp; - \frac{1}{4} \sqrt{2} e^{\frac{1}{4} \mathbf{\imath} \pi}\\\frac{1}{4} \sqrt{2} &amp; - \frac{1}{4} \sqrt{2} &amp; \frac{1}{4} \sqrt{2} &amp; - \frac{1}{4} \sqrt{2} &amp; \frac{1}{4} \sqrt{2} &amp; - \frac{1}{4} \sqrt{2} &amp; \frac{1}{4} \sqrt{2} &amp; - \frac{1}{4} \sqrt{2}\\\frac{1}{4} \sqrt{2} &amp; - \frac{1}{4} \sqrt{2} e^{\frac{1}{4} \mathbf{\imath} \pi} &amp; \frac{1}{4} \sqrt{2} \mathbf{\imath} &amp; - \frac{1}{4} \sqrt{2} \mathbf{\imath} e^{\frac{1}{4} \mathbf{\imath} \pi} &amp; - \frac{1}{4} \sqrt{2} &amp; \frac{1}{4} \sqrt{2} e^{\frac{1}{4} \mathbf{\imath} \pi} &amp; - \frac{1}{4} \sqrt{2} \mathbf{\imath} &amp; \frac{1}{4} \sqrt{2} \mathbf{\imath} e^{\frac{1}{4} \mathbf{\imath} \pi}\\\frac{1}{4} \sqrt{2} &amp; - \frac{1}{4} \sqrt{2} \mathbf{\imath} &amp; - \frac{1}{4} \sqrt{2} &amp; \frac{1}{4} \sqrt{2} \mathbf{\imath} &amp; \frac{1}{4} \sqrt{2} &amp; - \frac{1}{4} \sqrt{2} \mathbf{\imath} &amp; - \frac{1}{4} \sqrt{2} &amp; \frac{1}{4} \sqrt{2} \mathbf{\imath}\\\frac{1}{4} \sqrt{2} &amp; - \frac{1}{4} \sqrt{2} \mathbf{\imath} e^{\frac{1}{4} \mathbf{\imath} \pi} &amp; - \frac{1}{4} \sqrt{2} \mathbf{\imath} &amp; - \frac{1}{4} \sqrt{2} e^{\frac{1}{4} \mathbf{\imath} \pi} &amp; - \frac{1}{4} \sqrt{2} &amp; \frac{1}{4} \sqrt{2} \mathbf{\imath} e^{\frac{1}{4} \mathbf{\imath} \pi} &amp; \frac{1}{4} \sqrt{2} \mathbf{\imath} &amp; \frac{1}{4} \sqrt{2} e^{\frac{1}{4} \mathbf{\imath} \pi}\end{smallmatrix}\right)$$</latex>
              <prompt_number>6</prompt_number>
            </output>
          </outputs>
        </codecell>
        <codecell>
          <input>represent(Fourier(0,3), nqubits=3)*4/sqrt(2)
</input>
          <language>python</language>
          <prompt_number>7</prompt_number>
          <collapsed>0</collapsed>
          <outputs>
            <output>
              <output_type>pyout</output_type>
              <text>⎡1  1   1   1   1   1   1   1 ⎤
⎢                             ⎥
⎢        2   3   4   5   6   7⎥
⎢1  ω   ω   ω   ω   ω   ω   ω ⎥
⎢                             ⎥
⎢    2   4   6       2   4   6⎥
⎢1  ω   ω   ω   1   ω   ω   ω ⎥
⎢                             ⎥
⎢    3   6       4   7   2   5⎥
⎢1  ω   ω   ω   ω   ω   ω   ω ⎥
⎢                             ⎥
⎢    4       4       4       4⎥
⎢1  ω   1   ω   1   ω   1   ω ⎥
⎢                             ⎥
⎢    5   2   7   4       6   3⎥
⎢1  ω   ω   ω   ω   ω   ω   ω ⎥
⎢                             ⎥
⎢    6   4   2       6   4   2⎥
⎢1  ω   ω   ω   1   ω   ω   ω ⎥
⎢                             ⎥
⎢    7   6   5   4   3   2    ⎥
⎣1  ω   ω   ω   ω   ω   ω   ω ⎦</text>
              <latex>$$\left(\begin{smallmatrix}1 &amp; 1 &amp; 1 &amp; 1 &amp; 1 &amp; 1 &amp; 1 &amp; 1\\1 &amp; \omega &amp; \omega^{2} &amp; \omega^{3} &amp; \omega^{4} &amp; \omega^{5} &amp; \omega^{6} &amp; \omega^{7}\\1 &amp; \omega^{2} &amp; \omega^{4} &amp; \omega^{6} &amp; 1 &amp; \omega^{2} &amp; \omega^{4} &amp; \omega^{6}\\1 &amp; \omega^{3} &amp; \omega^{6} &amp; \omega &amp; \omega^{4} &amp; \omega^{7} &amp; \omega^{2} &amp; \omega^{5}\\1 &amp; \omega^{4} &amp; 1 &amp; \omega^{4} &amp; 1 &amp; \omega^{4} &amp; 1 &amp; \omega^{4}\\1 &amp; \omega^{5} &amp; \omega^{2} &amp; \omega^{7} &amp; \omega^{4} &amp; \omega &amp; \omega^{6} &amp; \omega^{3}\\1 &amp; \omega^{6} &amp; \omega^{4} &amp; \omega^{2} &amp; 1 &amp; \omega^{6} &amp; \omega^{4} &amp; \omega^{2}\\1 &amp; \omega^{7} &amp; \omega^{6} &amp; \omega^{5} &amp; \omega^{4} &amp; \omega^{3} &amp; \omega^{2} &amp; \omega\end{smallmatrix}\right)$$</latex>
              <prompt_number>7</prompt_number>
            </output>
          </outputs>
        </codecell>
        <markdowncell>
          <source>&lt;h2&gt;QFT in Action&lt;/h2&gt;</source>
        </markdowncell>
        <markdowncell>
          <source>Build a 3 qubit state to take the QFT of.</source>
        </markdowncell>
        <codecell>
          <input>state = (Qubit('000') + Qubit('010') + Qubit('100') + Qubit('110'))/sqrt(4); state
</input>
          <language>python</language>
          <prompt_number>8</prompt_number>
          <collapsed>0</collapsed>
          <outputs>
            <output>
              <output_type>pyout</output_type>
              <text>❘000⟩ + ❘010⟩ + ❘100⟩ + ❘110⟩
─────────────────────────────
              2</text>
              <png>aVZCT1J3MEtHZ29BQUFBTlNVaEVVZ0FBQVA0QUFBQWlDQVlBQUFCL2FtUUZBQUFBQkhOQ1NWUUlD
QWdJZkFoa2lBQUFCUjVKUkVGVQplSnp0bkZ0b0hGVVl4My9iSk5hbXBob3JhUnZGVnEyWVFnUXQr
aUJLS3lxaWd1TGxJWUpRUVgzd1FiRytGQzhnNjFNcGxHb3JvcjNnCkJYendwWWhJOVVHMGlvaGFC
VVdyQmtHRldtOTRiMU1xYWMzNjhNMjRrM0V1NTh5ZU16dVovWDZ3N002Wi8zNTgvejJabVhNTktJ
cWkKWkRBTTlIYzdDVVZSeW1FK3NBYjRCbGpSM1ZRVVJYSEJQQVBOQkRBRW5PVTVGMFZSS2tnTGZl
SXJTaTB3ZWVJcmlsSXpldjNDUHgyNAp1TnRKbEVRdmVRWDFtMG1mUmVBbXNCWDQwektoS0FOSWdv
ZUFHNEhKMlBuNXdMM0F6Y0FGd0JUd2MwSWNWN29wNEc1Z2J5RTNkc1Q5Cm1ub0FhQUFiZ1ErQTZS
Uk5sYjJHdVBCaHFwc3JmazExUmZ5ZUEveVJuMzQybmZieCt4Rnpwd1RIemRqNVB1QWo0S0hnZUJI
d0NiRE8Kcys0ZVlJbTVqY0kwSTU5TmN3dTFUeUsvLzJrcHNhdnNOY1NsajdyNE5kVVY5YnNSdWZn
TDB3Z1M2MlJrZnpOd2J1UzRHVHQvRy9BWAowaW9JV1FjY1lYYnlyblduQXZjYmVvaGoyMkt5eVcw
RWVCbDREL2lhN0QrTUtudjE0YU1PZnN1bzMySGduWXk0bWR3T1BJUGNjVjRFCjFoZUljVDd3Vkt5
c0dmbmNBRDREWG9wcGxnSXp3QVpQdXBCSEtUYmVzY2RDMjdUTWJRQTRNZmk4bWZRL2pDcDdCZmMr
NnVLM3JQcTkKQmRnVUQycnlnendQM0FGY0JOd0tQRzd3blRnYmdKMFo1ODhFeG9FUFkrVS9BZDhC
VjNuU2hid0dYSmZwSUptRkJiNWptdHN4NEcrSAo4VUxLOUFydWZkVEZiMW4xdXh1NG5QWk5CaWhu
Vkw4UHVBenBrNlN4TEhnL25IQnVDbGpwU1JmeVBuQkpSbjR1c2MzTmRid3l2ZHBRCmg3cjFnUXUv
dndBM1JRdkt1UERIZ1lOSXN5U05wY0g3Vk1LNUk3UUhCRjNyb2h3RXpzakkwUlZGY25NZHJ5eXZO
dFNoYm4zZ3d1OGsKY2gzK1Izamh0enk4UWthQjMzTE1MUWplanlXY2F5RlRHVDUwVVVhQVgzUHlk
RUdSM0Z6SEs4dXJEWFdvV3grNDhEc0pMSThLd3QxMgpqVTZ6eTJBWU9KcWorVExqM0VLa3FlSkRG
eklJL0lOWm42dFRiSE56SGE5TXJ6YlVvVzU5NE1MdkFkb3RCNkNjYmJhL2t6OE4rQVZ3Cm5QYmRM
Y29nOEtNblhjZ0VNbU9SUkFQWWxoTHJQR0JYUXZrTThDREpMUjNiM1BLb3NsY2I2bEMzUG5EaGR6
bXhoVHhsWFBnL0FHTTUKbW1uZ0svN2ZEeHRFVnZydDg2UUxXUWs4bTVKYkM5aE9iRlEwNEVMZzZZ
VHlHZEpYVE5ubWxrZVZ2ZHBRaDdyMWdRdS9xNER2b3dWbApYUGo3a2FiSE1yS2ZacDhpVTRaUjFn
QW5NSHNxMExWdU5iSkdJWXY5S2VXSERiNmJoR2x1cnVOMXc2c05kYWhiSDNUcWQ0eFk2NldNClVm
MFpaRzV4Vlk3dUJlQnFabmNMcmtmV0w3L2hVWGNEOEVxZUNjZVk1dVk2WGplODJsQ0h1dlZCcDM3
UEJsNlBGcGc4OFJjQWR5RnIKZ0E4QXo1Rzk0U0NKVGNIcnpRek5IdUFCWk1IQlZtUTI0RXFreitK
THR3aVpKamx1NmFkVFRITHJCKzVEQm1YdURNcDJJNXN3OWdKdgpXOGJybGxmWFBreDFWZmRiVnYx
T0FLOFNXd2VRTjVvL0QzZ0NlQVRwMTJ4Qm1oeHJrZWE3RGR1QWoybjNQNWFRdk91cUgybXlIRVdt
CklaS21NVnpwaHBEZjRKQ3BpUmh2SWF1aVRFanltNVZiSDNCdFNxeHZnYzhUeXF2bzFiVVBVMTNW
L1paUnY0c1JIMnVSUVhaanhwRSsKMEVod1BJb01pRnhxRXlTUzlBNWkwd3B6bkRLMmZGYUZYdklL
OWZDN0Jka25ZODBROEJqU2pBQzVBYlF3dnhQR0NmZmoxd1hiNWJWegptVjd5Q3ZYd3U4SlZvUFhJ
Wm9HQlBLR2lLUFZnREhnWGFlNHJpdElEakNMOTg1T0Q0MTcvWDMyS1Vuc1dBdy9UYnQ2dkJxN3BY
anFLCm9uUkszblRlU2NqRS96VHRIWGVqd0JYSTFqOUZVZVlnZVF0NEJwRUZBMUZhNkVXdktJcWlL
SXFpS0lxaUtJcWlLRjNuWDdyc1VmN2kKM2xJV0FBQUFBRWxGVGtTdVFtQ0MK
</png>
              <latex>$$\frac{1}{2} \left({\left|000\right\rangle } + {\left|010\right\rangle } + {\left|100\right\rangle } + {\left|110\right\rangle }\right)$$</latex>
              <prompt_number>8</prompt_number>
            </output>
          </outputs>
        </codecell>
        <markdowncell>
          <source>Perform the QFT.</source>
        </markdowncell>
        <codecell>
          <input>qapply(fourier*state)
</input>
          <language>python</language>
          <prompt_number>9</prompt_number>
          <collapsed>0</collapsed>
          <outputs>
            <output>
              <output_type>pyout</output_type>
              <text>⎽⎽⎽           ⎽⎽⎽      
╲╱ 2 ⋅❘000⟩   ╲╱ 2 ⋅❘100⟩
─────────── + ───────────
     2             2</text>
              <png>aVZCT1J3MEtHZ29BQUFBTlNVaEVVZ0FBQU5BQUFBQWtDQVlBQUFENHA3UjdBQUFBQkhOQ1NWUUlD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</png>
              <latex>$$\frac{1}{2} \sqrt{2} {\left|000\right\rangle } + \frac{1}{2} \sqrt{2} {\left|100\right\rangle }$$</latex>
              <prompt_number>9</prompt_number>
            </output>
          </outputs>
        </codecell>
      </cells>
    </worksheet>
  </worksheets>
</notebook>
