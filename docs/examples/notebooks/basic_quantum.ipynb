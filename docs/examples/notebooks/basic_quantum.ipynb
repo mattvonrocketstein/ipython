<?xml version="1.0" encoding="utf-8"?>
<notebook>
  <name>basic_quantum</name>
  <nbformat>2</nbformat>
  <worksheets>
    <worksheet>
      <cells>
        <markdowncell>
          <source>&lt;h1&gt;Basic Symbolic Quantum Mechanics&lt;/h1&gt;</source>
        </markdowncell>
        <codecell>
          <input>%load_ext sympyprinting</input>
          <language>python</language>
          <prompt_number>18</prompt_number>
          <collapsed>1</collapsed>
          <outputs />
        </codecell>
        <codecell>
          <input>from sympy import sqrt, symbols, Rational
from sympy import expand, Eq, Symbol, simplify, exp, sin
from sympy.physics.quantum import *
from sympy.physics.quantum.qubit import *
from sympy.physics.quantum.gate import *
from sympy.physics.quantum.grover import *
from sympy.physics.quantum.qft import QFT, IQFT, Fourier
from sympy.physics.quantum.circuitplot import circuit_plot</input>
          <language>python</language>
          <prompt_number>19</prompt_number>
          <collapsed>1</collapsed>
          <outputs />
        </codecell>
        <markdowncell>
          <source>&lt;h2&gt;Bras and Kets&lt;/h2&gt;</source>
        </markdowncell>
        <markdowncell>
          <source>Create symbolic states</source>
        </markdowncell>
        <codecell>
          <input>phi, psi = Ket('phi'), Ket('psi')
alpha, beta = symbols('alpha beta', complex=True)</input>
          <language>python</language>
          <prompt_number>20</prompt_number>
          <collapsed>1</collapsed>
          <outputs />
        </codecell>
        <markdowncell>
          <source>Create a superposition</source>
        </markdowncell>
        <codecell>
          <input>state = alpha*psi + beta*phi; state
</input>
          <language>python</language>
          <prompt_number>21</prompt_number>
          <collapsed>0</collapsed>
          <outputs>
            <output>
              <output_type>pyout</output_type>
              <text>α⋅❘ψ⟩ + β⋅❘φ⟩</text>
              <png>aVZCT1J3MEtHZ29BQUFBTlNVaEVVZ0FBQUY4QUFBQVhDQVlBQUFCdFI1UDBBQUFBQkhOQ1NWUUlD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</png>
              <latex>$$\alpha {\left|\psi\right\rangle } + \beta {\left|\phi\right\rangle }$$</latex>
              <prompt_number>21</prompt_number>
            </output>
          </outputs>
        </codecell>
        <markdowncell>
          <source>Dagger the superposition and multiply the original</source>
        </markdowncell>
        <codecell>
          <input>ip = Dagger(state)*state; ip
</input>
          <language>python</language>
          <prompt_number>22</prompt_number>
          <collapsed>0</collapsed>
          <outputs>
            <output>
              <output_type>pyout</output_type>
              <text>⎛⎽       ⎽    ⎞                
⎝α⋅⟨ψ❘ + β⋅⟨φ❘⎠⋅(α⋅❘ψ⟩ + β⋅❘φ⟩)</text>
              <png>aVZCT1J3MEtHZ29BQUFBTlNVaEVVZ0FBQU5vQUFBQWFDQVlBQUFEUjlVSnZBQUFBQkhOQ1NWUUlD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</png>
              <latex>$$\left(\overline{\alpha} {\left\langle \psi\right|} + \overline{\beta} {\left\langle \phi\right|}\right) \left(\alpha {\left|\psi\right\rangle } + \beta {\left|\phi\right\rangle }\right)$$</latex>
              <prompt_number>22</prompt_number>
            </output>
          </outputs>
        </codecell>
        <markdowncell>
          <source>Distribute</source>
        </markdowncell>
        <codecell>
          <input>qapply(expand(ip))
</input>
          <language>python</language>
          <prompt_number>23</prompt_number>
          <collapsed>0</collapsed>
          <outputs>
            <output>
              <output_type>pyout</output_type>
              <text>⎽           ⎽           ⎽           ⎽      
α⋅α⋅⟨ψ❘ψ⟩ + α⋅β⋅⟨φ❘ψ⟩ + β⋅α⋅⟨ψ❘φ⟩ + β⋅β⋅⟨φ❘φ⟩</text>
              <png>aVZCT1J3MEtHZ29BQUFBTlNVaEVVZ0FBQVU4QUFBQWFDQVlBQUFBMytkNENBQUFBQkhOQ1NWUUlD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</png>
              <latex>$$\alpha \overline{\alpha} \left\langle \psi \right. {\left|\psi\right\rangle } + \alpha \overline{\beta} \left\langle \phi \right. {\left|\psi\right\rangle } + \beta \overline{\alpha} \left\langle \psi \right. {\left|\phi\right\rangle } + \beta \overline{\beta} \left\langle \phi \right. {\left|\phi\right\rangle }$$</latex>
              <prompt_number>23</prompt_number>
            </output>
          </outputs>
        </codecell>
        <markdowncell>
          <source>&lt;h2&gt;Operators&lt;/h2&gt;</source>
        </markdowncell>
        <markdowncell>
          <source>Create symbolic operators</source>
        </markdowncell>
        <codecell>
          <input>A = Operator('A')
B = Operator('B')
C = Operator('C')</input>
          <language>python</language>
          <prompt_number>24</prompt_number>
          <collapsed>1</collapsed>
          <outputs />
        </codecell>
        <markdowncell>
          <source>Test commutativity</source>
        </markdowncell>
        <codecell>
          <input>A*B == B*A
</input>
          <language>python</language>
          <prompt_number>25</prompt_number>
          <collapsed>0</collapsed>
          <outputs>
            <output>
              <output_type>pyout</output_type>
              <text>False</text>
              <prompt_number>25</prompt_number>
            </output>
          </outputs>
        </codecell>
        <markdowncell>
          <source>Distribute A+B squared</source>
        </markdowncell>
        <codecell>
          <input>expand((A+B)**2)</input>
          <language>python</language>
          <prompt_number>26</prompt_number>
          <collapsed>0</collapsed>
          <outputs>
            <output>
              <output_type>pyout</output_type>
              <text>2          2
A⋅B + A  + B⋅A + B</text>
              <png>aVZCT1J3MEtHZ29BQUFBTlNVaEVVZ0FBQU1BQUFBQVpDQVlBQUFCbjdTSGdBQUFBQkhOQ1NWUUlD
QWdJZkFoa2lBQUFCT05KUkVGVQplSnp0Mmx1b0ZWVWN4L0ZQNmpuWnNkTk5LelZGS0xzWDFFT1Jw
R1lJS1JrRlJnUkpENzBvRkJSRm1sUXYwa3NQUVVWWVBZWFJUY1RxCklTcUtvdWhDRDBZU2RDVUt0
SXRkMEpKU3V1bnBZZTNOMlU0emU2ODFNL3NjT2N3WERwczlhODNNLy9mL25UWHJ2OVpzR2hvYUdo
STUKRW1kZ3luZ0gwdENUcmw1Tkh0dFlKZ1Fyc0JMSFlDT21ZdHU0UnRSUVJPTlZ6UXpncGRZbm5J
NFJYRGh1RVRVVTBYalZCMDdBbjFqUQpjZXdQckJtZmNCcTZFT1ZWYWcyN0VvUFkzS1hQUnN3cmFQ
c0hPMXZuZjVCNDcxUUc4WGRDL3p4dDJXdnN3Ykg0cS9WOVBvN1NmeTFGCjlDUFhNUjdYVFpGWEtm
cjY3dFdKcllzKzFxUGZJTTRYcHB2bk1TUU10Q21ZZzRkYmJldktCaExCTEt4TzZGK2s3VjZqVTJn
ZVc3RSsKTGJSYXFUdlhzUjdYU1RldlV2VDEzYXNuV2pkN01hTHZpbGJmNjNQYUJ2QXo5Z2tDWTBo
WnJFOFNERXc1cDBqYm1YaTg0SnkxdUNYaApIdDJvc2hsUlo2NVRQQzZpYnE5aTlaWHlhbEprb0pj
SzA4c0laa2IwWDl6NmZEdW43VURyT2tkRTNuOHBib3ZvMStZbXZONjZUd3pkCnRIMHBKUGk4elBG
VitFeVlvZ2V3TUNHK0xLbjZzdFNWNjFTUDgraUhWN0g2ZGlqaFZjdy80QlRjaDd1eFcvd0ErQncv
NWJRdHhVbDQKVmxpazlHSkEvRXdCTndpci94aGl0TDNnMEtmSGRUaEhTUHBWZ3VGSEo4U1hKVlZm
bGpweVhjYmpQUHJoVllxK3ZuaDF1OUdWOHlmWQozNlAva1BBa2VUU25iYUZRWTI0UlhsREVzRng4
N1hZODNvenNTNXkySVdHeEJkUHhQajdNL00xT3VHZVdGSDE1c2RXUjYxU1BpNmpiCnExUjl5Vjcx
MmdXYWphdUZrUVkvNGx4aGRiMjM0SndGd3BQZ1pLUEpHRzRGdkEvWDRxMGU5eTNMcWRnVjJUZFcy
MzRjRko1c3U0VlMKNFhDaGpseVg4YmdPWXJ4SzFaZnNWYThCOElBd0xSNXNmVzlQUXpNVko2ZGRz
NjBWUm1pYnJYZ1FHL0FWdnVzVlhBbW1DNG1KSVVYYgpUbUczWWtmVkFHdW1qbHlYOGJnT1lyd3Fv
eS9KcTI1cmdLWENYbXZudm1sbmNvcFloQy93RFg3citOc3UxSHlMOEhSTWNDWFlpN2tSCi9WSzF6
Y0x2MVVMckMxVnpYZGJqT29qeHFveStKSytLWm9CQllkVzhIUTkxSEwrNDR5WjVET0FTUEZQUS9v
TWdZTEV3bFhVR3VreFkKdEdTWkk3elZtNS9UOWg0MmRYemZLZnp3cVJ1cDJnWXhBNy8ydUc0djZ0
RFhTWlZjVTk1anhzYXJNdnFTdlNvYUFIY0tLK3N0bWVQZgpDblZaMGRQaEl1RnQyN3NGN1dmak9H
RlVadzNaSnRSdFdSWUlpWG95cHkxYlErNFM2c0J1YjRGVHRaMG0xSmtqQmRlTHBRNTluVlRKCk5l
VTlabXk4S3FNdjJhdThBVEFQbHd1ai9HQ21iV2JtTTB1N1ppc0src2JXNTFNNWJYc2NXdWUxbVlG
cHdnbytoczNDMUppM3cxQkcKMnhMRlQ2RVU2dExYcGtxdXEzak0ySGhWUnQ4U0ZiMGF4anZDVzdV
ODVndWphMU5CK3l1S0YxeXJXK2MrSnlRcGx0UnR3aUc4NXYrdgp4Y3RvbTRGWGhYM2tmbEYyRzdS
c3JxdDYzSTI2dkNKZFh5bXYyalBBTU83Qk5UaEwyQlBlNE5CZGdEWENDQ004UGRiaFpYeU5tNFZW
Ci9SWENOdHA2L05zUjJKV0MyRnZ4U0VxQUpkZ3Y3R3FzRm1yY0t0cFdDZHFxbGo5MU1WWDVYRmZK
dzZlMUt3bGt2YXFpN3c0bHZHcVAKbG1GYzFuRjhCRzhZL1NVZFlick1qdFNQOEVzcjJLS1Jkd0Fm
QzR1V01pekhCYmcvOGJ4VDhMMXEyaVlMTlhFL1NkRTNvSHl1cStRaAoxcnVxWGxYUk4xZi92Um9Y
bHVHdThRNmlqMHdrZlJOSnkySEROUDNma3g1UEpwSytpYVNsb2FHaG9hR2hvV0dpOGgrc1pjTHdo
djBRCnV3QUFBQUJKUlU1RXJrSmdnZz09Cg==
</png>
              <latex>$$A B + \left(A\right)^{2} + B A + \left(B\right)^{2}$$</latex>
              <prompt_number>26</prompt_number>
            </output>
          </outputs>
        </codecell>
        <markdowncell>
          <source>Create a commutator</source>
        </markdowncell>
        <codecell>
          <input>comm = Commutator(A,B); comm
</input>
          <language>python</language>
          <prompt_number>27</prompt_number>
          <collapsed>0</collapsed>
          <outputs>
            <output>
              <output_type>pyout</output_type>
              <text>[A,B]</text>
              <png>aVZCT1J3MEtHZ29BQUFBTlNVaEVVZ0FBQUM0QUFBQVdDQVlBQUFDL2tLNzNBQUFBQkhOQ1NWUUlD
QWdJZkFoa2lBQUFBa2hKUkVGVQpTSW50MTgyTFRXRWNCL0RQdk9XbEpwVEdZTEt3VUZNenpZWm1N
ek5KaVdsMi9nSEZRbFptNHlVYlk0V3RRc3FVRlJZaVNvUTRhSXBTCjhyS1FST1JkU1pFTU0xZzh6
K1hPblhQbW5udG5aa0crZFh2Ty9YM1A3L3Y3M3Q5em51YzhsNzhVTlNYZkwrQXJMdUZBbWR3OXFN
TzIKS3VvT1lDMDY4UU5EK0JLNVJpekIyWGpmK3hqdngwbzBvSzlVTU1sWnVCM2ZjYXdLMHdVMENH
WlBwWEJ0VWY4ZWFrdTRSRW93RDJxdwpEL1ZvcmlLL2dPV1loWXNwM0FOY0ZoclVscFpjamZIMXNk
aG5relBlRThlckdYd3JSdkU4ajFoU2hwOFhDOVhqTVQ3a0VjM0FPYnpLCjROYmhwekN6cFVqU0Vs
S0RSVGlFVmZGNktJclBLT2N3QmJYNGlPTWw4ZG5ZSExudHhtOGV2ejNXVjFCc2hkRHhLL0g3Mnpn
MjQxa0YKT3RDQk9aaUx2VEUyRTZ1RlhXME5ibFVpbUdURWEzRk4yS1lLT0NoMHZMT1NBaEZiWXU2
eUZHNGp2bUhEUkI3ekxzNU53dDVldkZDSwpPMTRwZXZBT2oxSzRRYndXR3RPWUpaRG5VV25Demxp
a3F5amVFc2RxakhmaitnVDhKMkYybCtKdUhzRWtKWFlVdlNueFBtRzZkK1VSCkxrSnJ6T3ZQNEJk
Ry9xa0pGbWU1UjZWTGVJT2RUK0ZleERHdDQ0c20wQ3pzM3pjeStJRTRIaEYrUUM0a1JkZnRlSU1G
R2ZjdWpzS24KUytJZHd2bGpNQ1B2cFBEeXFpdUpOMkUvUnJBanA4Y3h3Zm5DR1dFMEdudm96L05j
d0FtOGpQeXcwTDNDd2FjRlQzRGYyS2srZzVzeApaeVJlSi9Gelczak5IeloySFZWa2ZLcXdld3Ex
aXBGUTNWa2xMNlpUZTlyRWUzRm5tclF4M3ZpSThHY2lhNnZLcTlrdC9adzlHV3dWCnZBMVBzZTUv
L052NEJmcHZkNXROTFJsdUFBQUFBRWxGVGtTdVFtQ0MK
</png>
              <latex>$$\left[A,B\right]$$</latex>
              <prompt_number>27</prompt_number>
            </output>
          </outputs>
        </codecell>
        <markdowncell>
          <source>Carry out the commutator</source>
        </markdowncell>
        <codecell>
          <input>comm.doit()</input>
          <language>python</language>
          <prompt_number>28</prompt_number>
          <collapsed>0</collapsed>
          <outputs>
            <output>
              <output_type>pyout</output_type>
              <text>A⋅B - B⋅A</text>
              <png>aVZCT1J3MEtHZ29BQUFBTlNVaEVVZ0FBQUU0QUFBQVNDQVlBQUFEMTV1aVJBQUFBQkhOQ1NWUUlD
QWdJZkFoa2lBQUFBaTVKUkVGVQpXSVh0MXp0b1ZFRVlCZURQR0VHTGxRUU1haFFpcEJVRjBTcVl3
bWRockN4Rk8rMEYwVUt4VVZTMEVMRU5hV09oUWhvckZmR0JsWStnCklwcE9nbURBS2tyVXFMR1lR
ZGRrN3U1OUpBRmhEeXgzZHM0L2M4N1p1WFBuTGkyVXdwS0M5VmN3aVRNTmFnYXhEWnZ3RlUvd1BY
S3IKMEluck9JZXBndnFOc0JDNmVmSTJ4VmI4eEZDTzJnMll3YVVFdHk5eUkxWE1MSUp1a2J5WmFN
UGRLSHc3Ui8yaFdMc3JneCtMcG1wVgpUQzJnYnRPOGJUa05IY1VOVEdOTmp2cCtZWnM4VG5BMXJN
Y0VQdWZVejR2NTBpMmFONGt1NGRkdnd6Zys1Qmp6Rmc4enVCUENTaDRwCmEyaUJkY3ZrVFdJSWZi
SDlGRDgwdmxOWFI0Tm5aL1YzeEw0SkhDNXJaaEYwYytWdGJ6SkpINWI2ZSt0L2pOKzdZanVGL25q
dHhjWFkKcm1FQTcrS2NZMDN0RjhkODZKYkpPd2Z0ZUlTMWRYMUR3cXB1YmpEdUdyNWhlWUk3THh6
dnUvT2FLSUNxdW1YenpzRXhISi9WZHlGTwp0TGZCdUZIcGh6T3NFQjY0NzRzWXlZbXF1b1h5Wm0z
VjdqakpHLzhlN1QzeG1uWFNkR0FqTG1mdzA4SmRzVTdZUnBQQ1ZqcWRVWi9DCmlCQ29xbTQ5eXVh
ZGcySHNTUFFmRUZiZ1pNYTQvWkVmeU9DM1IvNU9YaU01VVZXM2NON1U2YmdUbjNBdndZM0hhOVlL
OUVlaDFKWloKaGxPeFBaZ3h2aXlxNkZiSit3ZGJoTk9qTTRQdmpRYUhNL2puZUpubzc4Rk5mTUhC
WmlaS29LeHUxYnk2OFFxL1l1RnI0YjJvSHJlRQpsOEVaNFUvMEErekJTbUcxWGtSdVNqaWQ3c2ZQ
S0o3aHF2QWNtaTlVMGEyU3Q0VVdXdmgvOEJ0MXY4VEcwN0FDaFFBQUFBQkpSVTVFCnJrSmdnZz09
Cg==
</png>
              <latex>$$A B - B A$$</latex>
              <prompt_number>28</prompt_number>
            </output>
          </outputs>
        </codecell>
        <markdowncell>
          <source>Create a more fancy commutator</source>
        </markdowncell>
        <codecell>
          <input>comm = Commutator(A*B,B+C); comm</input>
          <language>python</language>
          <prompt_number>29</prompt_number>
          <collapsed>0</collapsed>
          <outputs>
            <output>
              <output_type>pyout</output_type>
              <text>[A⋅B,B + C]</text>
              <png>aVZCT1J3MEtHZ29BQUFBTlNVaEVVZ0FBQUdBQUFBQVdDQVlBQUFBLzQ1bmtBQUFBQkhOQ1NWUUlD
QWdJZkFoa2lBQUFBM3RKUkVGVQphSUh0MkUyc1hWTVVCL0RmZXhxdlV2cjBReFhGUUkyazhkbjRh
dCtBMXdnbGtmaUltUkloRWhFRERCclZDTkxHTTJxakhSQTZFTVNFCmdmaElrU3Q5alU3RTkwY0lT
YVdFcEJKYURhckZZTzNiM2w3bjNMUFA2NzMzVGU1L3NzL1phKzMvWHVmc3RkWmVlelBBdEdLbzdm
MU4KL0ltdGVLcGk3RG9jZ3djNzZHekNwVGdQZitIOTFNSmNuSVNYOFNoK3IyRjNyM2lQQmlPNElk
bDFydmlQSTlpTWw3QVdEK0ZqWEliOQpSU1NOek1tVzRHKzhrS0c3RVA5aVE0SHN5aVI3SzNQZWZ2
Qk9CUmZoYzJ6QkZlTEhTKzNqMklqZk1DNmNmR1laVVNOanNpRzhMajd3CjNRejltNUx1dFNYeVQ1
TjhYZ1pYTDNubjRZeWFOaENldlY5NUpoakNKUDRRUC82b0YyQVY3c05lZkpHaHZ4RUhNTHRBTmpQ
eC9JTGgKREs1ZThsNHZ2cXNPYmhlTGZFZUYzaHE4azU2UFdJQVpOU2VjZzF1eEF2ZUlORkNGTVh5
SVBRV3lPM0U4N3NVL05XM3BGVzh1emhicApid2VlcWREOVRqaExKUm9WOHMwaXg4RjJzZm9qNWVw
T3hFRk10UFdQQ3EvWXJkcDcrc1ZiTndLMmllOGZ6OUM5RUl2VDg1UWpZS21JCmdHYmUvem0xQzdH
elpNeHlrUUxPeFByVU4wdms3WjFKL21VTkczck5tNHM1dUJ5ZjRPME0vUTl5aVJzbC9jTjR6NUdi
MUNiaEFSZDMKNEpzUW9YZENnZXhoN01QS1hPTjZ6RnNuQWxhS2IzK3U1aHkwUlVEdUJuV1hPQnQ4
MzlMWEdnRmxHQk4xNzk0QzJibzAvN1ArZng2cApRcTk0YzlGMHVzOHlkT2ZxVUlubHBLQUZXSTJ2
c2F5bGYxRnF5eFpnRmk1UWZxQTdLRXF6QmNuQTNSbTJkSU4zbFdKUEg4V3hTZDZPCjUvRmt5M3N6
NWY2WVllOXFQSmFoaCtJVXRBVlhGL1EzdzNCdENkZUtKTCt4Ukw0MHlTZHpqZXN4YjUwVWRGYWE0
NGtLdmNXNHY2MnYKVmdwYUprNjhieFRJZHFXMkxBTEdVcnV0UURaRFZDdndkTW40VTN2RTJ3MThL
NnJBNnhUdlE4UWlyUkY3WlRZYUxjOUw4Qk5PTHRFOQpUWGpCS3lYeUhmaW1vSDhSWGhScDRyYVNz
YzFUN2dOZDV1MkV1bVhvYkxFSWt6aTlwWDhVdDRoQ29haEVyeXhENTR0Uzh4eUhxNTl4Cmh6MmV1
RnhhbnA2dkVkNjRQbzE3VFpScDU0c0xzdTBpaW9qNnZaa2VMaEViYVJGMjRRY1JnUk00cmt1ODNj
UWVYQ1VPZlJ1RUEzeUYKWDBYQlV1UThsV2gweWJodTRaRSt6aldWcTRpcFlFcGw2SFJnV0hoMXY3
QlAvNjZ1RDZIdVhWQS9jVGRlN2VOOFcvczQxeUcwUjhBQgpFU0w5Q01WT21DL3kva2ZUYkVjM2Ni
UDR0NmZvM1FYaEFBTU1NRUFkL0FmM1FPSkhTbklZTndBQUFBQkpSVTVFcmtKZ2dnPT0K
</png>
              <latex>$$\left[A B,B + C\right]$$</latex>
              <prompt_number>29</prompt_number>
            </output>
          </outputs>
        </codecell>
        <markdowncell>
          <source>Expand the commutator</source>
        </markdowncell>
        <codecell>
          <input>comm.expand(commutator=True)</input>
          <language>python</language>
          <prompt_number>30</prompt_number>
          <collapsed>0</collapsed>
          <outputs>
            <output>
              <output_type>pyout</output_type>
              <text>[A,B]⋅B + [A,C]⋅B + A⋅[B,C]</text>
              <png>aVZCT1J3MEtHZ29BQUFBTlNVaEVVZ0FBQU44QUFBQVdDQVlBQUFCQUhrbFFBQUFBQkhOQ1NWUUlD
QWdJZkFoa2lBQUFCT1ZKUkVGVQplSnp0bTB0b1hVVVl4MytKQ1duRitLclUra1lMWXRIYWhZK2dK
S1dJcjlxNkVWeXBGSFJSeFlBRm4zUmpYRm5CallLSzFFZ0VVUmMrClVOQ0lRaDBmUVZ4cGl3dVJn
TzgzaWxJdGF1dGo4YzNoM2h4bnpwazU4ODI5dDNKK0VFNHkzOHgzdnU5LzU4eWNPek9CbHBhV3Zq
QlUKK3Z0VjRIZmdkZUNobXJiM0FvY0FkelM0N3d4d09UQUIvQTBzQVB1c2JSdzRHWGpKMXZ2Qmxt
OEROZ0Nqd0NZbG56bUkwUkRTZEN3WQpBcTRFSm9GemtmekhnT2VBQjRIVndBYzJwa0hYcjQ0NnZY
ejZ6NUF2UHczOU1ZRTNXd3ZzQjU2S0RMS2JVU1Q1NXgyMnM2ei9QY0J3CnlXWXkrTlRFUk5UVjBQ
RlVlODk1cEFPTTIvSmg0SHJnU2VCVFlEb2d2a0hRcjRvUXZVeUZMVWQrYXZwN0RWME1BYThBL3dD
N0lvSXMKYzRIMWNhUEhQbS90WjVmS1RRYWZQbzRHVGdtc1cyQUM2Mm5vdUFYWUN6eUt6QVl1SHJm
M09DTWdQbTM5b0ptR0xrTDFNaFUyN2Z5Uwo5Rzh5Z20wQlhnTitCVlkxYUYrdzNsN2Y4TmpYQUg4
Qm4vZlI1NFhBMVJIM2p5RlZ4eWxnRnZuZ3R5SjV1WmdIdmdJK0N2Q1o0elBSCjBsQ2ozMm5tcDY2
L3FiRWZoUVErQWl3Q1B3VUU2ZU5sNEd1UDdTcGt0TGpQWVRNWmZQcllETndXVVIvQ1pyNVVIWThF
UGtOeVhWNVQKOXh6Z2ljRDR0UFdEWmhxV2lkSExWTmkwOHN1aXY5ZGdlUVM0eVA2K2dBUTdWdFBH
eFREd00vQjBxZnhRNENacnU1UC9MZ2hWeFpqaQowMGV1aHk5Vng1MjJ6WFJkUmVBa1pQYXBpeStI
ZnFEejhNWG9aVHpsbXZtcDZEOFMwTGpnUEdRRUt0NjN2N1BYVmNnb0VNTTY0QWhrCkJObGh5NVlC
bHlBclZaY0I3dzJBenh4bzZMZ1orYTZ4TTZEdUYvYW5qa0hWVDZ2ZmFlYVhRLy9LVWVOTlpEbTI0
R0hrNlo4SWNWemkKRnR2MmRJZnRCdUJQWktVb0pzWVVuejYwWno0TkhWZmIrdTlHeGxWZ1BPVTU5
SU8wbWErSlhzWlRycFdmbXY2aEN5NWJrVDJLN2kraQozU05RTE91Qjc0R1BIYlpaNEJ0RTVIR0h2
WmMrdGRIUXNlaDBId2JVSFdOcHg2MWlFUFhUN0hkYSthbnBIL0xhdVJMWWpnUTkyVlYrCm9yMDJY
YWw3cThLK0Z3bjZOR0IzRDN4ZUI5enFhSE00SXVDMUR0c3pkRjVmUXREU3NYalY4aTBjZEhNenN1
a2NRdXBub3EyaGRyL1QKNm5PNTlIZE8yWFBBUmtmNUptVDZ2VHZVdVdXTmJiZk5Zei9PMmo4aGZN
RWwxYWNQemRmT09YUjBIQVYrUTA1alZIRVljTCtqM0RqSwpjdWtIelY4NzUyaW1sM0dVYWVhbnBu
L2RhK2Nrc3VzLzc3QjlhYSt1RWVqNENwL0ZYc3ZiSHZ1TXZUNkdDQkpDRHArYWFPcTRINWt4CnBw
Q1ZOQmNya0dOTkR3VEdOMmo2TmRYTFI5UDhlcVUvc0hUVVdBdDhDeHpycVh1Q0RmU0ZVdms2NUd6
YnJLZmRzOGhHYWZsRXdFb2sKNEFQQVhZRXhhdm4wb1RIejVkQnhCT2tBaThpeHFJTGx3S1hJMHZ5
S3dQZ2duMzRRcjJGVHZRcU1vNnhKZnRuMWQzM25Pd1paMWoyVAp6bXJUeFhSR0hPZzgrUUJYSUNQ
S0RtUVQ4MGZrTE52NXlCUmVqQ1F2SW9KT0lLY0JGcEFsWHBBcGVwa3Qyd0M4NHdtOFRBNmZXdVRT
CkVhU3pYSU9zem0xSFZ2QVdnVitRZktmeG43am9acEQwUzlYTFJVcCt2ZEIvQ1NhMlFRWDNLUHJx
eG1UeTZ5TFhKbnNNMmpvYVpYOTEKYUd5eXgyQ1UvV1hUUCtmcDlINmRmTmRrSC9LNjBrOE9kaDBI
UWNNVXN1a2ZjOElsaG8zQSs1bDg5NUpkcFAzblJpci9CeDM3cldFSwpXZlV2UDlVSGtIMEozNUpz
cU04cDNQOHpsY0x0U0d4L0tQdlZSa05EME5meFlORXZsVmIvbHBhV2xwYVdscGFXbGc3L0FwMkpD
c0NZCkVCSG1BQUFBQUVsRlRrU3VRbUNDCg==
</png>
              <latex>$$\left[A,B\right] B + \left[A,C\right] B + A \left[B,C\right]$$</latex>
              <prompt_number>30</prompt_number>
            </output>
          </outputs>
        </codecell>
        <markdowncell>
          <source>Carry out and expand the commutators</source>
        </markdowncell>
        <codecell>
          <input>_.doit().expand()
</input>
          <language>python</language>
          <prompt_number>31</prompt_number>
          <collapsed>0</collapsed>
          <outputs>
            <output>
              <output_type>pyout</output_type>
              <text>2                
A⋅B⋅C + A⋅B  - B⋅A⋅B - C⋅A⋅B</text>
              <png>aVZCT1J3MEtHZ29BQUFBTlNVaEVVZ0FBQU84QUFBQVpDQVlBQUFEWnUzbTlBQUFBQkhOQ1NWUUlD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</png>
              <latex>$$A B C + A \left(B\right)^{2} - B A B - C A B$$</latex>
              <prompt_number>31</prompt_number>
            </output>
          </outputs>
        </codecell>
        <markdowncell>
          <source>Take the dagger</source>
        </markdowncell>
        <codecell>
          <input>Dagger(_)</input>
          <language>python</language>
          <prompt_number>32</prompt_number>
          <collapsed>0</collapsed>
          <outputs>
            <output>
              <output_type>pyout</output_type>
              <text>2              
   †  †  †    †  †  †   ⎛ †⎞   †    †  †  †
- B ⋅A ⋅B  - B ⋅A ⋅C  + ⎝B ⎠ ⋅A  + C ⋅B ⋅A</text>
              <png>aVZCT1J3MEtHZ29BQUFBTlNVaEVVZ0FBQVd3QUFBQWFDQVlBQUFDVGsyYlJBQUFBQkhOQ1NWUUlD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</png>
              <latex>$$- B^{\dagger} A^{\dagger} B^{\dagger} - B^{\dagger} A^{\dagger} C^{\dagger} + \left(B^{\dagger}\right)^{2} A^{\dagger} + C^{\dagger} B^{\dagger} A^{\dagger}$$</latex>
              <prompt_number>32</prompt_number>
            </output>
          </outputs>
        </codecell>
      </cells>
    </worksheet>
  </worksheets>
</notebook>
