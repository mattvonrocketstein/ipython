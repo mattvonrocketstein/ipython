<?xml version="1.0" encoding="utf-8"?>
<notebook>
  <name>task_1</name>
  <nbformat>2</nbformat>
  <worksheets>
    <worksheet>
      <cells>
        <markdowncell>
          <source># Simple task farming example</source>
        </markdowncell>
        <codecell>
          <input>from IPython.parallel import Client</input>
          <language>python</language>
          <prompt_number>3</prompt_number>
          <collapsed>1</collapsed>
          <outputs />
        </codecell>
        <markdowncell>
          <source>A `Client.load_balanced_view` is used to get the object used for working with load balanced tasks.</source>
        </markdowncell>
        <codecell>
          <input>rc = Client()
v = rc.load_balanced_view()</input>
          <language>python</language>
          <prompt_number>4</prompt_number>
          <collapsed>1</collapsed>
          <outputs />
        </codecell>
        <markdowncell>
          <source>Set the variable `d` on all engines:</source>
        </markdowncell>
        <codecell>
          <input>rc[:]['d'] = 30</input>
          <language>python</language>
          <prompt_number>5</prompt_number>
          <collapsed>1</collapsed>
          <outputs />
        </codecell>
        <markdowncell>
          <source>Define a function that will be our task:</source>
        </markdowncell>
        <codecell>
          <input>def task(a):
    return a, 10*d, a*10*d</input>
          <language>python</language>
          <prompt_number>6</prompt_number>
          <collapsed>1</collapsed>
          <outputs />
        </codecell>
        <markdowncell>
          <source>Run the task once:</source>
        </markdowncell>
        <codecell>
          <input>ar = v.apply(task, 5)</input>
          <language>python</language>
          <prompt_number>7</prompt_number>
          <collapsed>1</collapsed>
          <outputs />
        </codecell>
        <markdowncell>
          <source>Print the results:</source>
        </markdowncell>
        <codecell>
          <input>print "a, b, c: ", ar.get()</input>
          <language>python</language>
          <prompt_number>8</prompt_number>
          <collapsed>0</collapsed>
          <outputs>
            <output>
              <output_type>stream</output_type>
              <text>a, b, c:  [5, 300, 1500]</text>
            </output>
          </outputs>
        </codecell>
      </cells>
    </worksheet>
  </worksheets>
</notebook>
