<?xml version="1.0" encoding="utf-8"?>
<notebook>
  <name>helloworld</name>
  <nbformat>2</nbformat>
  <worksheets>
    <worksheet>
      <cells>
        <markdowncell>
          <source># Distributed hello world

Originally by Ken Kinder (ken at kenkinder dom com)</source>
        </markdowncell>
        <codecell>
          <input>from IPython.parallel import Client</input>
          <language>python</language>
          <prompt_number>3</prompt_number>
          <collapsed>1</collapsed>
          <outputs />
        </codecell>
        <codecell>
          <input>rc = Client()
view = rc.load_balanced_view()</input>
          <language>python</language>
          <prompt_number>4</prompt_number>
          <collapsed>1</collapsed>
          <outputs />
        </codecell>
        <codecell>
          <input>def sleep_and_echo(t, msg):
    import time
    time.sleep(t)
    return msg</input>
          <language>python</language>
          <prompt_number>5</prompt_number>
          <collapsed>1</collapsed>
          <outputs />
        </codecell>
        <codecell>
          <input>world = view.apply_async(sleep_and_echo, 3, 'World!')
hello = view.apply_async(sleep_and_echo, 2, 'Hello')
</input>
          <language>python</language>
          <prompt_number>6</prompt_number>
          <collapsed>1</collapsed>
          <outputs />
        </codecell>
        <codecell>
          <input>print "Submitted tasks:", hello.msg_ids, world.msg_ids
print hello.get(), world.get()</input>
          <language>python</language>
          <prompt_number>7</prompt_number>
          <collapsed>0</collapsed>
          <outputs>
            <output>
              <output_type>stream</output_type>
              <text>Submitted tasks: [&amp;apos;9e533683-d54e-4588-929e-984dd3eb6dc4&amp;apos;] [&amp;apos;90395f15-723f-44df-a743-a5d88cdeb6a0&amp;apos;]
Hello</text>
            </output>
            <output>
              <output_type>stream</output_type>
              <text>World!</text>
            </output>
          </outputs>
        </codecell>
      </cells>
    </worksheet>
  </worksheets>
</notebook>
