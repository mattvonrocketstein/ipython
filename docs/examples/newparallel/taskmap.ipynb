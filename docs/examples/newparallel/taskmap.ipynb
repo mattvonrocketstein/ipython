<?xml version="1.0" encoding="utf-8"?>
<notebook>
  <name>taskmap</name>
  <nbformat>2</nbformat>
  <worksheets>
    <worksheet>
      <cells>
        <markdowncell>
          <source># Load balanced map and parallel function decorator</source>
        </markdowncell>
        <codecell>
          <input>from IPython.parallel import Client</input>
          <language>python</language>
          <prompt_number>4</prompt_number>
          <collapsed>1</collapsed>
          <outputs />
        </codecell>
        <codecell>
          <input>rc = Client()
v = rc.load_balanced_view()</input>
          <language>python</language>
          <prompt_number>5</prompt_number>
          <collapsed>1</collapsed>
          <outputs />
        </codecell>
        <codecell>
          <input>result = v.map(lambda x: 2*x, range(10))
print "Simple, default map: ", list(result)</input>
          <language>python</language>
          <prompt_number>6</prompt_number>
          <collapsed>0</collapsed>
          <outputs>
            <output>
              <output_type>stream</output_type>
              <text>Simple, default map:  [0, 2, 4, 6, 8, 10, 12, 14, 16, 18]</text>
            </output>
          </outputs>
        </codecell>
        <codecell>
          <input>ar = v.map_async(lambda x: 2*x, range(10))
print "Submitted tasks, got ids: ", ar.msg_ids
result = ar.get()
print "Using a mapper: ", result</input>
          <language>python</language>
          <prompt_number>7</prompt_number>
          <collapsed>0</collapsed>
          <outputs>
            <output>
              <output_type>stream</output_type>
              <text>Submitted tasks, got ids:  [&amp;apos;2a25ff3f-f0d0-4428-909a-3fe808ca61f9&amp;apos;, &amp;apos;edd42168-fac2-4b3f-a696-ce61b37aa71d&amp;apos;, &amp;apos;8a548908-7812-44e6-a8b1-68e941bee608&amp;apos;, &amp;apos;26435a77-fe86-49b6-b59f-de864d59c99f&amp;apos;, &amp;apos;6750c7b4-2168-49ec-bcc4-feb1e17c5e53&amp;apos;, &amp;apos;117240d1-5dfc-4783-948f-e9523b2b2f6a&amp;apos;, &amp;apos;6de16d46-f2e2-49bd-8180-e43d1d875529&amp;apos;, &amp;apos;3d372b84-0c68-4315-92c8-a080c68478b7&amp;apos;, &amp;apos;43acedae-e35c-4a17-87f0-9e5e672500f7&amp;apos;, &amp;apos;eb71dd1f-9500-4375-875d-c2c42999848c&amp;apos;]
Using a mapper:  [0, 2, 4, 6, 8, 10, 12, 14, 16, 18]</text>
            </output>
          </outputs>
        </codecell>
        <codecell>
          <input>@v.parallel(block=True)
def f(x): return 2*x

result = f.map(range(10))
print "Using a parallel function: ", result</input>
          <language>python</language>
          <prompt_number>8</prompt_number>
          <collapsed>0</collapsed>
          <outputs>
            <output>
              <output_type>stream</output_type>
              <text>Using a parallel function:  [0, 2, 4, 6, 8, 10, 12, 14, 16, 18]</text>
            </output>
          </outputs>
        </codecell>
      </cells>
    </worksheet>
  </worksheets>
</notebook>
