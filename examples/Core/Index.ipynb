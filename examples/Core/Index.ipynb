{
 "metadata": {
  "name": "",
  "signature": "sha256:e9beaff0a182620a68fe43e907213d7d5f30b30f6fcf3ba97114f95ea3b61b55"
 },
 "nbformat": 3,
 "nbformat_minor": 0,
 "worksheets": [
  {
   "cells": [
    {
     "cell_type": "markdown",
     "metadata": {},
     "source": [
      "<img src=\"../images/ipython_logo.png\">"
     ]
    },
    {
     "cell_type": "heading",
     "level": 1,
     "metadata": {},
     "source": [
      "Core Syntax and Command Line Features"
     ]
    },
    {
     "cell_type": "heading",
     "level": 2,
     "metadata": {},
     "source": [
      "Tutorials"
     ]
    },
    {
     "cell_type": "markdown",
     "metadata": {},
     "source": [
      "* [Cell Magics](Cell Magics.ipynb)\n",
      "* [Script Magics](Script Magics.ipynb)"
     ]
    },
    {
     "cell_type": "heading",
     "level": 2,
     "metadata": {},
     "source": [
      "Examples"
     ]
    }
   ],
   "metadata": {}
  }
 ]
}