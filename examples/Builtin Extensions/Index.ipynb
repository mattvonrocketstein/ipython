{
 "metadata": {
  "name": "",
  "signature": "sha256:1d90c9be85e777f36c4a30cb65871f4dd6efab6504fafef74184ba3e053130c6"
 },
 "nbformat": 3,
 "nbformat_minor": 0,
 "worksheets": [
  {
   "cells": [
    {
     "cell_type": "markdown",
     "metadata": {},
     "source": [
      "<img src=\"../images/ipython_logo.png\">"
     ]
    },
    {
     "cell_type": "heading",
     "level": 1,
     "metadata": {},
     "source": [
      "Builtin Extensions"
     ]
    },
    {
     "cell_type": "heading",
     "level": 2,
     "metadata": {},
     "source": [
      "Tutorials"
     ]
    },
    {
     "cell_type": "markdown",
     "metadata": {},
     "source": [
      "* [Cython Magics](Cython Magics.ipynb): magics for compiling and running Cython code in a cell\n",
      "* [Octave Magic](Octave Magic.ipynb): magics for running Octave code in a cell\n",
      "* [R Magics](R Magics.ipynb): magics for running R code in a cell"
     ]
    }
   ],
   "metadata": {}
  }
 ]
}