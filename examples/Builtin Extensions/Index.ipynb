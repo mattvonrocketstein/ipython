{
 "metadata": {
  "name": "",
  "signature": "sha256:fe4dbf207e38eb8151a0b18d1d01d727f9ee6ea3a08c16da17283f543d3b7925"
 },
 "nbformat": 3,
 "nbformat_minor": 0,
 "worksheets": [
  {
   "cells": [
    {
     "cell_type": "markdown",
     "metadata": {},
     "source": [
      "<img src=\"../images/ipython_logo.png\">"
     ]
    },
    {
     "cell_type": "markdown",
     "metadata": {},
     "source": [
      "Back to the main [Index](../Index.ipynb)"
     ]
    },
    {
     "cell_type": "heading",
     "level": 1,
     "metadata": {},
     "source": [
      "Builtin Extensions"
     ]
    },
    {
     "cell_type": "heading",
     "level": 2,
     "metadata": {},
     "source": [
      "Tutorials"
     ]
    },
    {
     "cell_type": "markdown",
     "metadata": {},
     "source": [
      "* [Cython Magics](Cython Magics.ipynb): magics for compiling and running Cython code in a cell\n",
      "* [Octave Magic](Octave Magic.ipynb): magics for running Octave code in a cell\n",
      "* [R Magics](R Magics.ipynb): magics for running R code in a cell"
     ]
    }
   ],
   "metadata": {}
  }
 ]
}