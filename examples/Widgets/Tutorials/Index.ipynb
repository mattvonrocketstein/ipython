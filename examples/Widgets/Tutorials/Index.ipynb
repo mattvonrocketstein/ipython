{
 "metadata": {
  "name": "",
  "signature": "sha256:554c73fb7038db942bd25f77ad2217699e1f3fda6535fad67103256dc1beda0b"
 },
 "nbformat": 3,
 "nbformat_minor": 0,
 "worksheets": [
  {
   "cells": [
    {
     "cell_type": "heading",
     "level": 1,
     "metadata": {},
     "source": [
      "Widget Tutorials"
     ]
    },
    {
     "cell_type": "markdown",
     "metadata": {},
     "source": [
      "This directory includes a tutorials related to the IPython notebook widget framework."
     ]
    },
    {
     "cell_type": "heading",
     "level": 2,
     "metadata": {},
     "source": [
      "Interact"
     ]
    },
    {
     "cell_type": "markdown",
     "metadata": {},
     "source": [
      "* [Using Interact](Using Interact.ipynb)"
     ]
    },
    {
     "cell_type": "heading",
     "level": 2,
     "metadata": {},
     "source": [
      "Widgets"
     ]
    },
    {
     "cell_type": "markdown",
     "metadata": {},
     "source": [
      "- [Basics](Basics.ipynb)  \n",
      "- [Events](Events.ipynb)  \n",
      "- [Placement](Placement.ipynb)  \n",
      "- [Styles](Styles.ipynb)  \n",
      "- [Alignment](Alignment.ipynb)  \n",
      "- [Custom Widgets](Custom Widgets.ipynb)  "
     ]
    },
    {
     "cell_type": "code",
     "collapsed": false,
     "input": [],
     "language": "python",
     "metadata": {},
     "outputs": []
    }
   ],
   "metadata": {}
  }
 ]
}