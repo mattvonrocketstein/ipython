{
 "metadata": {
  "name": "",
  "signature": "sha256:80d852710c872fd0903d077bf8002d332c0e1256e0734573233e92c67684a321"
 },
 "nbformat": 3,
 "nbformat_minor": 0,
 "worksheets": [
  {
   "cells": [
    {
     "cell_type": "heading",
     "level": 1,
     "metadata": {},
     "source": [
      "Widget Examples"
     ]
    },
    {
     "cell_type": "heading",
     "level": 2,
     "metadata": {},
     "source": [
      "Examples of how to create a custom widget:"
     ]
    },
    {
     "cell_type": "markdown",
     "metadata": {},
     "source": [
      "- [Variable Inspector](Variable Inspector.ipynb)  \n",
      "- [Export As (nbconvert)](Export As (nbconvert%29.ipynb)  \n",
      "- [Nonblocking Console](Nonblocking Console.ipynb)  \n",
      "- [File Upload Widget](File Upload Widget.ipynb)"
     ]
    },
    {
     "cell_type": "heading",
     "level": 2,
     "metadata": {},
     "source": [
      "Examples using `interact`/`interactive`"
     ]
    },
    {
     "cell_type": "markdown",
     "metadata": {},
     "source": [
      "* [Beat Frequencies](Beat Frequencies.ipynb)\n",
      "* [Exploring Graphs](Exploring Graphs.ipynb)\n",
      "* [Factoring](Factoring.ipynb)\n",
      "* [Image Browser](Image Browser.ipynb)\n",
      "* [Image Processing](Image Processing.ipynb)\n",
      "* [Lorenz](Lorenz.ipynb)"
     ]
    }
   ],
   "metadata": {}
  }
 ]
}