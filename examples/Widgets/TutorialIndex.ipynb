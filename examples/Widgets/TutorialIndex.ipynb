{
 "metadata": {
  "name": "",
  "signature": "sha256:a2f4e040950648308ac7ec5f95d83948b4499ffc68e6bfd8f6fe8784955f52fb"
 },
 "nbformat": 3,
 "nbformat_minor": 0,
 "worksheets": [
  {
   "cells": [
    {
     "cell_type": "heading",
     "level": 1,
     "metadata": {},
     "source": [
      "Widget Tutorials"
     ]
    },
    {
     "cell_type": "markdown",
     "metadata": {},
     "source": [
      "This directory includes a tutorials related to the IPython notebook widget framework."
     ]
    },
    {
     "cell_type": "heading",
     "level": 2,
     "metadata": {},
     "source": [
      "Interact"
     ]
    },
    {
     "cell_type": "markdown",
     "metadata": {},
     "source": [
      "* [Using Interact](Using Interact.ipynb)"
     ]
    },
    {
     "cell_type": "heading",
     "level": 2,
     "metadata": {},
     "source": [
      "Widgets"
     ]
    },
    {
     "cell_type": "markdown",
     "metadata": {},
     "source": [
      "- [Basics](Basics.ipynb)  \n",
      "- [Events](Events.ipynb)  \n",
      "- [Placement](Placement.ipynb)  \n",
      "- [Styles](Styles.ipynb)  \n",
      "- [Alignment](Alignment.ipynb)  \n",
      "- [Custom Widgets](Custom Widgets.ipynb)  "
     ]
    }
   ],
   "metadata": {}
  }
 ]
}