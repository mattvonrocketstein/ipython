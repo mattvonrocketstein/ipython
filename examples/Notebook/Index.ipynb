{
 "metadata": {
  "name": "",
  "signature": "sha256:c81ae6aa03abb91a6a64807c6cd7dae22f140f16780d54f0eb4beb3b1f8606aa"
 },
 "nbformat": 3,
 "nbformat_minor": 0,
 "worksheets": [
  {
   "cells": [
    {
     "cell_type": "markdown",
     "metadata": {},
     "source": [
      "<img src=\"../images/ipython_logo.png\">"
     ]
    },
    {
     "cell_type": "markdown",
     "metadata": {},
     "source": [
      "Back to the main [Index](../Index.ipynb)"
     ]
    },
    {
     "cell_type": "heading",
     "level": 1,
     "metadata": {},
     "source": [
      "Notebook"
     ]
    },
    {
     "cell_type": "markdown",
     "metadata": {},
     "source": [
      "The IPython Notebook is a web-based interactive computing system that enables users to author documents that include live code, narrative text, LaTeX equations, HTML, images and video. These documents are contain a full record of a computation and its results and can be shared on email, [Dropbox](http://dropbox.com), version control systems (like git/[GitHub](http://github.com)) or [nbviewer.ipython.org](http://nbviewer.ipython.org)."
     ]
    },
    {
     "cell_type": "heading",
     "level": 2,
     "metadata": {},
     "source": [
      "Tutorials"
     ]
    },
    {
     "cell_type": "markdown",
     "metadata": {},
     "source": [
      "* [What is the IPython Notebook?](What is the IPython Notebook%3F.ipynb)\n",
      "* [Running the Notebook Server](Running the Notebook Server.ipynb)\n",
      "* [Notebook Dashboard](Notebook Dashboard.ipynb)\n",
      "* [Notebook User Interface](Notebook User Interface.ipynb)\n",
      "* [Notebook Cell Types](Notebook Cell Types.ipynb)\n",
      "* [Working With Code Cells](Working With Code Cells.ipynb)\n",
      "* [Working With Markdown Cells](Working With Markdown Cells.ipynb)\n",
      "* [Notebook Security](Notebook Security.ipynb)"
     ]
    },
    {
     "cell_type": "heading",
     "level": 2,
     "metadata": {},
     "source": [
      "Examples"
     ]
    },
    {
     "cell_type": "markdown",
     "metadata": {},
     "source": [
      "* [Custom Keyboard Shortcuts](Custom Keyboard Shortcuts.ipynb)\n",
      "* [Importing Notebooks](Importing Notebooks.ipynb)\n",
      "* [Connecting with the Qt Console](Connecting with the Qt Console.ipynb)\n",
      "* [Typesetting Equations](Typesetting Equations.ipynb)"
     ]
    },
    {
     "cell_type": "code",
     "collapsed": false,
     "input": [],
     "language": "python",
     "metadata": {},
     "outputs": []
    }
   ],
   "metadata": {}
  }
 ]
}