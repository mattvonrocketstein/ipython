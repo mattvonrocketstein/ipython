{
 "metadata": {
  "name": "",
  "signature": "sha256:ef5ecdf40e119cd6da50579d4d594dc74cb8c063a74b3f3f8f76834b783f750e"
 },
 "nbformat": 3,
 "nbformat_minor": 0,
 "worksheets": [
  {
   "cells": [
    {
     "cell_type": "markdown",
     "metadata": {},
     "source": [
      "<img src=\"../images/ipython_logo.png\">"
     ]
    },
    {
     "cell_type": "heading",
     "level": 1,
     "metadata": {},
     "source": [
      "IPython Notebook"
     ]
    },
    {
     "cell_type": "heading",
     "level": 2,
     "metadata": {},
     "source": [
      "Tutorials"
     ]
    },
    {
     "cell_type": "markdown",
     "metadata": {},
     "source": [
      "* [User Interface](User Interface.ipynb)\n",
      "* [Running Code](Running Code.ipynb)\n",
      "* [Basic Output](Basic Output.ipynb)\n",
      "* [Plotting with Matplotlib](Plotting with Matplotlib.ipynb)\n",
      "* [Markdown Cells](Markdown Cells.ipynb)\n",
      "* [Typesetting Math Using MathJax](Typesetting Math Using MathJax.ipynb)\n",
      "* [Display System](Display System.ipynb)\n",
      "* [Custom Display Logic](Custom Display Logic.ipynb)"
     ]
    },
    {
     "cell_type": "heading",
     "level": 2,
     "metadata": {},
     "source": [
      "Examples"
     ]
    },
    {
     "cell_type": "markdown",
     "metadata": {},
     "source": [
      "* [Trapezoid Rule](Trapezoid Rule.ipynb)\n",
      "* [SymPy](SymPy.ipynb)\n",
      "* [Raw Input](Raw Input.ipynb)\n",
      "* [Progress Bars](Progress Bars.ipynb)\n",
      "* [Importing Notebooks](Importing Notebooks.ipynb)\n",
      "* [Connecting with the Qt Console](Connecting with the Qt Console.ipynb)\n",
      "* [Animations Using clear_output](Animations Using clear_output.ipynb)"
     ]
    }
   ],
   "metadata": {}
  }
 ]
}