{
 "metadata": {
  "name": "",
  "signature": "sha256:35aa32e4977a9f12e4e99e23e6e2f211a1d95c113d22d90077205dba085e8324"
 },
 "nbformat": 3,
 "nbformat_minor": 0,
 "worksheets": [
  {
   "cells": [
    {
     "cell_type": "markdown",
     "metadata": {},
     "source": [
      "<img src=\"../images/ipython_logo.png\">"
     ]
    },
    {
     "cell_type": "markdown",
     "metadata": {},
     "source": [
      "Back to the main [Index](../Index.ipynb)"
     ]
    },
    {
     "cell_type": "heading",
     "level": 1,
     "metadata": {},
     "source": [
      "Parallel Computing with IPython"
     ]
    },
    {
     "cell_type": "heading",
     "level": 2,
     "metadata": {},
     "source": [
      "Tutorials"
     ]
    },
    {
     "cell_type": "markdown",
     "metadata": {},
     "source": [
      "* [Data Publication API](Data Publication API.ipynb) "
     ]
    },
    {
     "cell_type": "heading",
     "level": 2,
     "metadata": {},
     "source": [
      "Examples"
     ]
    },
    {
     "cell_type": "markdown",
     "metadata": {},
     "source": [
      "* [Monitoring an MPI Simulation - 1](Monitoring an MPI Simulation - 1.ipynb)\n",
      "* [Monitoring an MPI Simulation - 2](Monitoring an MPI Simulation - 2.ipynb)\n",
      "* [Parallel Decorator and map](Parallel Decorator and map.ipynb)\n",
      "* [Parallel Magics](Parallel Magics.ipynb)\n",
      "* [Using Dill](Using Dill.ipynb)\n",
      "* [Using MPI with IPython Parallel](Using MPI with IPython Parallel.ipynb)"
     ]
    }
   ],
   "metadata": {}
  }
 ]
}