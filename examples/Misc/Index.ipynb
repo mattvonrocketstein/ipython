{
 "metadata": {
  "name": "",
  "signature": "sha256:de5d592ea428f67f49f326d419774eff3e0b4402145bb5f3ce7cac49cc528080"
 },
 "nbformat": 3,
 "nbformat_minor": 0,
 "worksheets": [
  {
   "cells": [
    {
     "cell_type": "markdown",
     "metadata": {},
     "source": [
      "<img src=\"../images/ipython_logo.png\">"
     ]
    },
    {
     "cell_type": "markdown",
     "metadata": {},
     "source": [
      "Back to the main [Index](../Index.ipynb)"
     ]
    },
    {
     "cell_type": "heading",
     "level": 1,
     "metadata": {},
     "source": [
      "Miscellaneous Topics"
     ]
    },
    {
     "cell_type": "heading",
     "level": 2,
     "metadata": {},
     "source": [
      "Tutorials"
     ]
    },
    {
     "cell_type": "heading",
     "level": 2,
     "metadata": {},
     "source": [
      "Examples"
     ]
    }
   ],
   "metadata": {}
  }
 ]
}