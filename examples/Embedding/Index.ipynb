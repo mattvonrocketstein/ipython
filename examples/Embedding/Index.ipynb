{
 "metadata": {
  "name": "",
  "signature": "sha256:8edc28217f4096868a0efc9a634bd927f627a2d223fbce516b3bb565810095a5"
 },
 "nbformat": 3,
 "nbformat_minor": 0,
 "worksheets": [
  {
   "cells": [
    {
     "cell_type": "markdown",
     "metadata": {},
     "source": [
      "Back to the main [Index](../Index.ipynb)"
     ]
    },
    {
     "cell_type": "code",
     "collapsed": false,
     "input": [],
     "language": "python",
     "metadata": {},
     "outputs": []
    }
   ],
   "metadata": {}
  }
 ]
}