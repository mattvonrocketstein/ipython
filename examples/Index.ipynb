{
 "metadata": {
  "name": "",
  "signature": "sha256:f047f5edb4201c0c7aa38bdf31058bf6ab2785d53e7a03cdbd4e4ff4217c0007"
 },
 "nbformat": 3,
 "nbformat_minor": 0,
 "worksheets": [
  {
   "cells": [
    {
     "cell_type": "markdown",
     "metadata": {},
     "source": [
      "<img src=\"images/ipython_logo.png\">"
     ]
    },
    {
     "cell_type": "heading",
     "level": 1,
     "metadata": {},
     "source": [
      "IPython Documentation"
     ]
    },
    {
     "cell_type": "markdown",
     "metadata": {},
     "source": [
      "This directory contains IPython's notebook-based documentation. This augments our [Sphinx-based documentation](http://ipython.org/ipython-doc/stable/index.html) with notebooks that contain interactive tutorials and examples. Over time, more of our documentation will be pulled into this format."
     ]
    },
    {
     "cell_type": "heading",
     "level": 2,
     "metadata": {},
     "source": [
      "Topics"
     ]
    },
    {
     "cell_type": "markdown",
     "metadata": {},
     "source": [
      "* [IPython Kernel](IPython Kernel/Index.ipynb): IPython's core syntax and command line features available in all frontends\n",
      "* [Notebook](Notebook/Index.ipynb): The IPython Notebook frontend\n",
      "* [Interactive Widgets](Interactive Widgets/Index.ipynb): Interactive JavaScript/HTML widgets and `interact`\n",
      "* [Parallel Computing](Parallel Computing/Index.ipynb): IPython's library for interactive parallel computing\n",
      "* [Customization](Customization/Index.ipynb): How to configure IPython and customize it with magics, extensions, etc.\n",
      "* [Embedding](Embedding/Index.ipynb): Embedding and reusing IPython's components into other applications\n",
      "* [Builtin Extensions](Builtin Extensions/Index.ipynb): Extensions we ship with IPython\n",
      "* [Miscellaneous](Miscellaneous/Index.ipynb): Documentation that doesn't fit anywhere else"
     ]
    }
   ],
   "metadata": {}
  }
 ]
}