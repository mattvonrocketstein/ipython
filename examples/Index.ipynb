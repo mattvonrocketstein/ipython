{
 "metadata": {
  "name": "",
  "signature": "sha256:7aef917e7be3cb0881b911b9dbab7a5198c83ddfaaca6ec3499716f4a347c87b"
 },
 "nbformat": 3,
 "nbformat_minor": 0,
 "worksheets": [
  {
   "cells": [
    {
     "cell_type": "markdown",
     "metadata": {},
     "source": [
      "<img src=\"images/ipython_logo.png\">"
     ]
    },
    {
     "cell_type": "heading",
     "level": 1,
     "metadata": {},
     "source": [
      "IPython Documentation"
     ]
    },
    {
     "cell_type": "markdown",
     "metadata": {},
     "source": [
      "This directory contains IPython's notebook-based documentation. This augments our [Sphinx-based documentation](http://ipython.org/ipython-doc/stable/index.html) with notebooks that contain interactive tutorials and examples. Over time, more of our documentation will be pulled into this format."
     ]
    },
    {
     "cell_type": "heading",
     "level": 2,
     "metadata": {},
     "source": [
      "Topics"
     ]
    },
    {
     "cell_type": "markdown",
     "metadata": {},
     "source": [
      "* [Core](Core/Index.ipynb): IPython's core syntax and command line features available in all of our frontends\n",
      "* [Notebook](Notebook/Index.ipynb): The IPython Notebook frontend\n",
      "* [Widgets](Widgets/Index.ipynb): Interactive JavaScript/HTML widgets and `interact`\n",
      "* [Parallel](Parallel/Index.ipynb): IPython's library for interactive parallel computing\n",
      "* [Customization](Customization/Index.ipynb): How to configure IPython and customize it with magics, extensions, etc.\n",
      "* [Embedding](Embedding/Index.ipynb): Embedding and reusing IPython's components into other applications\n",
      "* [Builtin Extensions](Builtin Extensions/Index.ipynb): Extensions we ship with IPython\n",
      "* [Misc](Misc/Index.ipynb): Content that doesn't fit anywhere else"
     ]
    }
   ],
   "metadata": {}
  }
 ]
}