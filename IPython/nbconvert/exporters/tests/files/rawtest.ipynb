{
 "metadata": {
  "name": ""
 },
 "nbformat": 3,
 "nbformat_minor": 0,
 "worksheets": [
  {
   "cells": [
    {
     "cell_type": "raw",
     "metadata": {
      "raw_format": "html"
     },
     "source": [
      "<b>raw html</b>"
     ]
    },
    {
     "cell_type": "raw",
     "metadata": {
      "raw_format": "markdown"
     },
     "source": [
      "* raw markdown\n",
      "* bullet\n",
      "* list"
     ]
    },
    {
     "cell_type": "raw",
     "metadata": {
      "raw_format": "rst"
     },
     "source": [
      "``raw rst``\n",
      "\n",
      ".. sourcecode:: python\n",
      "\n",
      "    def foo(): pass\n"
     ]
    },
    {
     "cell_type": "raw",
     "metadata": {
      "raw_format": "python"
     },
     "source": [
      "def bar():\n",
      "    \"\"\"raw python\"\"\"\n",
      "    pass"
     ]
    },
    {
     "cell_type": "raw",
     "metadata": {
      "raw_format": "latex"
     },
     "source": [
      "\\LaTeX\n",
      "% raw latex"
     ]
    },
    {
     "cell_type": "raw",
     "metadata": {},
     "source": [
      "# no raw_format metadata, should be included by default"
     ]
    },
    {
     "cell_type": "raw",
     "metadata": {
      "raw_format": "doesnotexist"
     },
     "source": [
      "garbage format defined, should never be included"
     ]
    }
   ],
   "metadata": {}
  }
 ]
}